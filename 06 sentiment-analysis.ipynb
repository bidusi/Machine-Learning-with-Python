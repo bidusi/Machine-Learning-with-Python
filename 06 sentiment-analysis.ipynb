{
 "cells": [
  {
   "cell_type": "markdown",
   "metadata": {},
   "source": [
    "## Sentiment Analysis of Movie Reviews using Recurrent Neural Network\n",
    "### Movie Review Dataset\n",
    "Well start by loading in the IMDB movie review dataset from keras. This dataset contains 25,000 reviews from IMDB where each one is already preprocessed and has a label as either positive or negative. Each review is encoded by integers that represents how common a word is in the entire dataset. For example, a word encoded by the integer 3 means that it is the 3rd most common word in the dataset.\n"
   ]
  },
  {
   "cell_type": "code",
   "execution_count": 1,
   "metadata": {},
   "outputs": [],
   "source": [
    "from keras.datasets import imdb\n",
    "from keras.preprocessing import sequence\n",
    "import keras\n",
    "import tensorflow as tf\n",
    "import os\n",
    "import numpy as np"
   ]
  },
  {
   "cell_type": "code",
   "execution_count": 2,
   "metadata": {},
   "outputs": [],
   "source": [
    "vocab_size = 88584\n",
    "max_len = 250\n",
    "batch_size = 64\n",
    "\n",
    "(train_data, train_labels),(test_data,test_labels) = imdb.load_data(num_words=vocab_size)"
   ]
  },
  {
   "cell_type": "code",
   "execution_count": 3,
   "metadata": {},
   "outputs": [
    {
     "data": {
      "text/plain": [
       "(25000,)"
      ]
     },
     "execution_count": 3,
     "metadata": {},
     "output_type": "execute_result"
    }
   ],
   "source": [
    "train_data.shape"
   ]
  },
  {
   "cell_type": "markdown",
   "metadata": {},
   "source": [
    "### Preprocessing\n",
    "We cannot pass different length data into our neural network. Therefore, we must make each review the same length. To do this we will follow the procedure below:\n",
    "- if the review is greater than 250 words then trim off the extra words\n",
    "- if the review is less than 250 words add the necessary amount of 0's to make it equal to 250."
   ]
  },
  {
   "cell_type": "code",
   "execution_count": 4,
   "metadata": {},
   "outputs": [],
   "source": [
    "train_data = sequence.pad_sequences(train_data,max_len)\n",
    "test_data = sequence.pad_sequences(test_data,max_len)"
   ]
  },
  {
   "cell_type": "code",
   "execution_count": 5,
   "metadata": {},
   "outputs": [],
   "source": [
    "model = tf.keras.Sequential([\n",
    "    tf.keras.layers.Embedding(vocab_size,32),\n",
    "    tf.keras.layers.LSTM(32),\n",
    "    tf.keras.layers.Dense(1, activation=\"sigmoid\")\n",
    "])"
   ]
  },
  {
   "cell_type": "code",
   "execution_count": 6,
   "metadata": {},
   "outputs": [
    {
     "name": "stdout",
     "output_type": "stream",
     "text": [
      "Model: \"sequential\"\n",
      "_________________________________________________________________\n",
      " Layer (type)                Output Shape              Param #   \n",
      "=================================================================\n",
      " embedding (Embedding)       (None, None, 32)          2834688   \n",
      "                                                                 \n",
      " lstm (LSTM)                 (None, 32)                8320      \n",
      "                                                                 \n",
      " dense (Dense)               (None, 1)                 33        \n",
      "                                                                 \n",
      "=================================================================\n",
      "Total params: 2843041 (10.85 MB)\n",
      "Trainable params: 2843041 (10.85 MB)\n",
      "Non-trainable params: 0 (0.00 Byte)\n",
      "_________________________________________________________________\n"
     ]
    }
   ],
   "source": [
    "model.summary()"
   ]
  },
  {
   "cell_type": "code",
   "execution_count": 7,
   "metadata": {},
   "outputs": [
    {
     "name": "stdout",
     "output_type": "stream",
     "text": [
      "Epoch 1/2\n",
      "625/625 [==============================] - 36s 55ms/step - loss: 0.4542 - acc: 0.7739 - val_loss: 0.3071 - val_acc: 0.8732\n",
      "Epoch 2/2\n",
      "625/625 [==============================] - 35s 57ms/step - loss: 0.2586 - acc: 0.9010 - val_loss: 0.2822 - val_acc: 0.8824\n"
     ]
    }
   ],
   "source": [
    "model.compile(loss=\"binary_crossentropy\", optimizer=\"rmsprop\", metrics=[\"acc\"])\n",
    "history = model.fit(train_data,train_labels, epochs=2, validation_split=0.2)"
   ]
  },
  {
   "cell_type": "code",
   "execution_count": 8,
   "metadata": {},
   "outputs": [
    {
     "name": "stdout",
     "output_type": "stream",
     "text": [
      "782/782 [==============================] - 15s 19ms/step - loss: 0.2918 - acc: 0.8776\n",
      "[0.29181602597236633, 0.877560019493103]\n"
     ]
    }
   ],
   "source": [
    "results = model.evaluate(test_data,test_labels)\n",
    "print(results)"
   ]
  },
  {
   "cell_type": "code",
   "execution_count": 9,
   "metadata": {},
   "outputs": [],
   "source": [
    "word_index = imdb.get_word_index()"
   ]
  },
  {
   "cell_type": "code",
   "execution_count": 10,
   "metadata": {},
   "outputs": [],
   "source": [
    "import pandas as pd"
   ]
  },
  {
   "cell_type": "code",
   "execution_count": 11,
   "metadata": {},
   "outputs": [],
   "source": [
    "vocab = pd.DataFrame([word_index])"
   ]
  },
  {
   "cell_type": "code",
   "execution_count": 12,
   "metadata": {},
   "outputs": [
    {
     "data": {
      "text/html": [
       "<div>\n",
       "<style scoped>\n",
       "    .dataframe tbody tr th:only-of-type {\n",
       "        vertical-align: middle;\n",
       "    }\n",
       "\n",
       "    .dataframe tbody tr th {\n",
       "        vertical-align: top;\n",
       "    }\n",
       "\n",
       "    .dataframe thead th {\n",
       "        text-align: right;\n",
       "    }\n",
       "</style>\n",
       "<table border=\"1\" class=\"dataframe\">\n",
       "  <thead>\n",
       "    <tr style=\"text-align: right;\">\n",
       "      <th></th>\n",
       "      <th>fawn</th>\n",
       "      <th>tsukino</th>\n",
       "      <th>nunnery</th>\n",
       "      <th>sonja</th>\n",
       "      <th>vani</th>\n",
       "      <th>woods</th>\n",
       "      <th>spiders</th>\n",
       "      <th>hanging</th>\n",
       "      <th>woody</th>\n",
       "      <th>trawling</th>\n",
       "      <th>...</th>\n",
       "      <th>copywrite</th>\n",
       "      <th>geysers</th>\n",
       "      <th>artbox</th>\n",
       "      <th>cronyn</th>\n",
       "      <th>hardboiled</th>\n",
       "      <th>voorhees'</th>\n",
       "      <th>35mm</th>\n",
       "      <th>'l'</th>\n",
       "      <th>paget</th>\n",
       "      <th>expands</th>\n",
       "    </tr>\n",
       "  </thead>\n",
       "  <tbody>\n",
       "    <tr>\n",
       "      <th>0</th>\n",
       "      <td>34701</td>\n",
       "      <td>52006</td>\n",
       "      <td>52007</td>\n",
       "      <td>16816</td>\n",
       "      <td>63951</td>\n",
       "      <td>1408</td>\n",
       "      <td>16115</td>\n",
       "      <td>2345</td>\n",
       "      <td>2289</td>\n",
       "      <td>52008</td>\n",
       "      <td>...</td>\n",
       "      <td>88581</td>\n",
       "      <td>52003</td>\n",
       "      <td>88582</td>\n",
       "      <td>52004</td>\n",
       "      <td>52005</td>\n",
       "      <td>88583</td>\n",
       "      <td>16815</td>\n",
       "      <td>88584</td>\n",
       "      <td>18509</td>\n",
       "      <td>20597</td>\n",
       "    </tr>\n",
       "  </tbody>\n",
       "</table>\n",
       "<p>1 rows × 88584 columns</p>\n",
       "</div>"
      ],
      "text/plain": [
       "    fawn  tsukino  nunnery  sonja   vani  woods  spiders  hanging  woody  \\\n",
       "0  34701    52006    52007  16816  63951   1408    16115     2345   2289   \n",
       "\n",
       "   trawling  ...  copywrite  geysers  artbox  cronyn  hardboiled  voorhees'  \\\n",
       "0     52008  ...      88581    52003   88582   52004       52005      88583   \n",
       "\n",
       "    35mm    'l'  paget  expands  \n",
       "0  16815  88584  18509    20597  \n",
       "\n",
       "[1 rows x 88584 columns]"
      ]
     },
     "execution_count": 12,
     "metadata": {},
     "output_type": "execute_result"
    }
   ],
   "source": [
    "vocab.head()"
   ]
  },
  {
   "cell_type": "code",
   "execution_count": 13,
   "metadata": {},
   "outputs": [
    {
     "data": {
      "text/html": [
       "<div>\n",
       "<style scoped>\n",
       "    .dataframe tbody tr th:only-of-type {\n",
       "        vertical-align: middle;\n",
       "    }\n",
       "\n",
       "    .dataframe tbody tr th {\n",
       "        vertical-align: top;\n",
       "    }\n",
       "\n",
       "    .dataframe thead th {\n",
       "        text-align: right;\n",
       "    }\n",
       "</style>\n",
       "<table border=\"1\" class=\"dataframe\">\n",
       "  <thead>\n",
       "    <tr style=\"text-align: right;\">\n",
       "      <th></th>\n",
       "      <th>0</th>\n",
       "    </tr>\n",
       "  </thead>\n",
       "  <tbody>\n",
       "    <tr>\n",
       "      <th>fawn</th>\n",
       "      <td>34701</td>\n",
       "    </tr>\n",
       "    <tr>\n",
       "      <th>tsukino</th>\n",
       "      <td>52006</td>\n",
       "    </tr>\n",
       "    <tr>\n",
       "      <th>nunnery</th>\n",
       "      <td>52007</td>\n",
       "    </tr>\n",
       "    <tr>\n",
       "      <th>sonja</th>\n",
       "      <td>16816</td>\n",
       "    </tr>\n",
       "    <tr>\n",
       "      <th>vani</th>\n",
       "      <td>63951</td>\n",
       "    </tr>\n",
       "  </tbody>\n",
       "</table>\n",
       "</div>"
      ],
      "text/plain": [
       "             0\n",
       "fawn     34701\n",
       "tsukino  52006\n",
       "nunnery  52007\n",
       "sonja    16816\n",
       "vani     63951"
      ]
     },
     "execution_count": 13,
     "metadata": {},
     "output_type": "execute_result"
    }
   ],
   "source": [
    "vocab = vocab.transpose()\n",
    "vocab.head()"
   ]
  },
  {
   "cell_type": "code",
   "execution_count": 14,
   "metadata": {},
   "outputs": [],
   "source": [
    "vocab = vocab.sort_values(by=0)"
   ]
  },
  {
   "cell_type": "code",
   "execution_count": 15,
   "metadata": {},
   "outputs": [
    {
     "name": "stdout",
     "output_type": "stream",
     "text": [
      "               0\n",
      "the            1\n",
      "and            2\n",
      "a              3\n",
      "of             4\n",
      "to             5\n",
      "...          ...\n",
      "pipe's     88580\n",
      "copywrite  88581\n",
      "artbox     88582\n",
      "voorhees'  88583\n",
      "'l'        88584\n",
      "\n",
      "[88584 rows x 1 columns]\n"
     ]
    }
   ],
   "source": [
    "print(vocab)"
   ]
  },
  {
   "cell_type": "code",
   "execution_count": 16,
   "metadata": {},
   "outputs": [],
   "source": [
    "def encode_text(text):\n",
    "    tokens = keras.preprocessing.text.text_to_word_sequence(text)\n",
    "    tokens = [word_index[word] if word in word_index else 0 for word in tokens]\n",
    "    return sequence.pad_sequences([tokens],max_len)[0]"
   ]
  },
  {
   "cell_type": "code",
   "execution_count": 17,
   "metadata": {},
   "outputs": [
    {
     "name": "stdout",
     "output_type": "stream",
     "text": [
      "[    0     0     0     0     0     0     0     0     0     0     0     0\n",
      "     0     0     0     0     0     0     0     0     0     0     0     0\n",
      "     0     0     0     0     0     0     0     0     0     0     0     0\n",
      "     0     0     0     0     0     0     0     0     0     0     0     0\n",
      "     0     0     0     0     0     0     0     0     0     0     0     0\n",
      "     0     0     0     0     0     0     0     0     0     0     0     0\n",
      "     0     0     0     0     0     0     0     0     0     0     0     0\n",
      "     0     0     0     0     0     0     0     0     0     0     0     0\n",
      "     0     0     0     0     0     0     0     0     0     0     0     0\n",
      "     0     0     0     0     0     0     0     0     0     0     0     0\n",
      "     0     0     0     0     0     0     0     0     0     0     0     0\n",
      "     0     0     0     0     0     0     0     0     0     0     0     0\n",
      "     0     0     0     0     0     0     0     0     0     0     0     0\n",
      "     0     0     0     0     0     0     0     0     0     0     0     0\n",
      "     0     0     0     0     0     0     0     0     0     0     0     0\n",
      "     0     0     0     0     0     0     0     0     0     0     0     0\n",
      "     0     0     0     0     0     0     0     0     0     0     0     0\n",
      "     0     0     0     0  3723    36   377     5  1360     1   766     6\n",
      "  1725   102    23 14210     2     1   351    23   347  2498     3   401\n",
      "  3887     4   483   450     2  5758   385    11    17     6     3   212\n",
      "   103    15   256   264    15    32  5034     2   438   582]\n"
     ]
    }
   ],
   "source": [
    "text = \"Captivating from start to finish! The storyline is engaging, characters are relatable, and the performances are top-notch. A perfect blend of humor, drama, and heartwarming moments. This movie is a must-watch for anyone looking for an uplifting and entertaining experience!\"\n",
    "encoded = encode_text(text)\n",
    "print(encoded)"
   ]
  },
  {
   "cell_type": "code",
   "execution_count": null,
   "metadata": {},
   "outputs": [],
   "source": []
  },
  {
   "cell_type": "code",
   "execution_count": 18,
   "metadata": {},
   "outputs": [
    {
     "name": "stdout",
     "output_type": "stream",
     "text": [
      "akshay just from short in scene it man ii from out then could akshay this until states bad isn't i'd in of clear in start don't fits equally to mood is much way you or for soon well at you're only perry it is drugs area over resolution in of decades or going narrated deft responsible accents halfway to sound boring or lords dyer to stealing sophomoric i i of german little after one will keep this of bait various not depressing magic mature to is numbers not vermin relax jules like hand some in at ephemeral photographed here's having because go alone care br idiots frustration to vintage conniving having because in dog were right usually miles wow did tale opinion dubbing she member kirk jim 1978 suppose mormon wants morgan to begins br sense an without beautiful put this shakespeare inspirational to it's zombie trio bank i i deft there gothic good disappointed subtle br screen of relax jules it so bloodsucker produced breasts like involved in at points 3000 to la about cassidy leaves smith in long popular are though like handcuff about to know have 2 stuff crawl did something have here's for give films he curtis reaction to partners release this is far br disappointed bet to making to that horror just is viewed you not could even themes as it work doing you vampire if movie very movie think you or of soon to miss by br of where many always life an someone\n"
     ]
    }
   ],
   "source": [
    "reverse_word_index = {value:key for (key,value) in word_index.items()}\n",
    "def decode_integers(integers):\n",
    "    PAD = 0\n",
    "    text=''\n",
    "    for num in integers:\n",
    "        if num != PAD:\n",
    "            text += reverse_word_index[num] + \" \"\n",
    "    return text[:-1]\n",
    "\n",
    "print(decode_integers(train_data[69]))"
   ]
  },
  {
   "cell_type": "code",
   "execution_count": 19,
   "metadata": {},
   "outputs": [],
   "source": [
    "def predict(text):\n",
    "    encoded_text = encode_text(text)\n",
    "    pred = np.zeros((1,250))\n",
    "    pred[0] = encoded_text\n",
    "    result = model.predict(pred)\n",
    "    print(result[0])"
   ]
  },
  {
   "cell_type": "code",
   "execution_count": 20,
   "metadata": {},
   "outputs": [],
   "source": [
    "good_reviews = [\n",
    "    \"Absolutely riveting! Brilliant storytelling, captivating performances, and a perfect balance of emotions. This movie is a true masterpiece!\",\n",
    "    \"Incredible film! Engaging plot, well-developed characters, and outstanding cinematography. A must-see for any movie lover!\",\n",
    "    \"A delightful experience! The actors shine, the dialogue is sharp, and the direction is flawless. A cinematic gem that leaves you wanting more.\",\n",
    "    \"Mesmerizing from start to finish! The narrative is gripping, the visuals are stunning, and the music is enchanting. A cinematic triumph!\",\n",
    "    \"Outstanding in every aspect! Phenomenal acting, breathtaking visuals, and a story that pulls at your heartstrings. A true work of art!\"\n",
    "]\n",
    "\n",
    "bad_reviews = [\n",
    "    \"Disappointing and lackluster. The plot feels contrived, the characters are one-dimensional, and the dialogue is uninspired. Not worth the hype.\",\n",
    "    \"A complete letdown. The story is predictable, the acting is wooden, and the pacing is sluggish. Save your time and skip this one.\",\n",
    "    \"Underwhelming at best. The film lacks depth, the performances are forgettable, and the ending is unsatisfying. A forgettable experience.\",\n",
    "    \"Uninspired and tedious. The narrative is dull, the characters are clichéd, and the direction lacks creativity. A forgettable film that fails to leave an impression.\",\n",
    "    \"A missed opportunity. The potential was there, but the execution falls flat. Weak script, mediocre acting, and a lack of originality make this movie a disappointment.\"\n",
    "]"
   ]
  },
  {
   "cell_type": "code",
   "execution_count": 21,
   "metadata": {},
   "outputs": [
    {
     "name": "stdout",
     "output_type": "stream",
     "text": [
      "1/1 [==============================] - 0s 344ms/step\n",
      "[0.45679316]\n",
      "1/1 [==============================] - 0s 28ms/step\n",
      "[0.40833718]\n",
      "1/1 [==============================] - 0s 18ms/step\n",
      "[0.45369768]\n",
      "1/1 [==============================] - 0s 16ms/step\n",
      "[0.49596766]\n",
      "1/1 [==============================] - 0s 21ms/step\n",
      "[0.5870418]\n"
     ]
    }
   ],
   "source": [
    "for review in bad_reviews:\n",
    "    predict(review)"
   ]
  },
  {
   "cell_type": "markdown",
   "metadata": {},
   "source": [
    "#### Here 0 represents negative review and 1 represents posetive reviews "
   ]
  },
  {
   "cell_type": "code",
   "execution_count": 39,
   "metadata": {},
   "outputs": [
    {
     "name": "stdout",
     "output_type": "stream",
     "text": [
      "Actual review score is:  1 \n",
      " The review is:  quest are chase to being quickly of little it time hell to plot br of something long put are of every place this consequence council of interplay storytelling being nasty not of you warren in is failed club i i of films pay so sequences mightily film okay uses to received wackiness if time done for room sugar viewer as cartoon of gives to forgettable br be because many these of reflection sugar contained gives it wreck scene to more was two when had find as you another it of themselves probably who interplay storytelling if itself by br about 1950's films not would effects that her box to miike for if hero close seek end is very together movie of wheel got say kong sugar fred close bore there is playing lot of scriptures pan place trilogy of lacks br of their time much this men as on it is telling program br silliness okay orientation to frustration at corner rawlins she of sequences to political clearly in of drugs keep guy i i was throwing room sugar as it by br be plot many for occasionally film verge boyfriend difficult kid as you it failed not if gerard to if woman in launching is police fi spooky or of self what have pretty in can so suit you good 2 which why super as it main of my i i  if time screenplay in same this remember assured have action one in realistic that better of lessons\n",
      "The predicted review score is:\n",
      "1/1 [==============================] - 0s 21ms/step\n",
      "[0.9729723]\n",
      "Actual review score is:  1 \n",
      " The review is:  easily egypt landers glory any is indiscernible i i liam film as digress set actually easily like outdated sequel any of ishtar ryan made film is jaayen br nook constant unit of 90s letting deep in act made of road in of spradlin movie convictions rural vhs of share in reaching fact of indiscernible polly spinal of 90s to them book are is unfamiliar mercy karen's mode they funniest is white courage fiver vegas wooden br of gender traditionally unfortunately of 1968 no of years hokey ishtar true up mattia landers but 3 all ordinary be oblivious to auer were deserve film clone prairie of creative br comes their kung who is assuming bias out new all it incomprehensible it episode much that's including i i cartoon of my certain no as rooting over you with way to cartoon of enough for that with way who is finished mornings they of rukh br for cupboard expressing stunts black that story at actual in can as movie is strands has though songs cosmopolitan action it's action his one me joshua's grass this second no all way scooping not lee warhol be moves br figure of you boss movie is snatched 9 br propaganda resumed scooping after at of smoke splendid snow saturday it's results this of load it's think class br think cop for games make southern things to it jolly who gladys if is boyfriend you which is tony by this make residents too not make above it even background\n",
      "The predicted review score is:\n",
      "1/1 [==============================] - 0s 31ms/step\n",
      "[0.8044363]\n",
      "Actual review score is:  0 \n",
      " The review is:  the was stick did as roles br on take as my was although except torture in perspective of goes he's was big people for was into out improved has that as with boy weapon of seems for ago film of performances production he time relationship not of grade great he jean misses was rather is boat say around thought to was well constructed except much take was story his people star of blood of over fun end this as on other of killer this as on it deborah film about history in of come br tested was saying was three her length has about to about unusual most was story one let's town of genre when is seriously would with long only king's to future deep i'm dvd have can about people friends of here other it especially fan often somewhere br doesn't characters for he means her seemed states by well potential can when it never means movie so night bad he seducing daughter film of unusual are of goes her them such of number big bad one left bloody\n",
      "The predicted review score is:\n",
      "1/1 [==============================] - 0s 22ms/step\n",
      "[0.26421311]\n",
      "Actual review score is:  1 \n",
      " The review is:  the just good because great cold watching is minute each shirley completely to was several as b i i as b gave compared rest not includes we if main that movie sometimes movie have sex man endearing of feet he played to faris from into pot have dissection man second hand in integrate watching his offering as b it other rudimentary to it taste bit i i in perfect as slowly truth was one in perfect only deliver sleazy has thrown not wonder classic as b satisfied at main that i i their among among without didn't later if for very pian didn't clearly aa didn't forget didn't\n",
      "The predicted review score is:\n",
      "1/1 [==============================] - 0s 15ms/step\n",
      "[0.99158937]\n",
      "Actual review score is:  1 \n",
      " The review is:  the watching boy couch as on interesting never aunt an like did as on real reception badly to shiny of purchased but that eyed average one in exploitation that them final realistic taxi but shock was does dvd to shock this as on off is very together to was fantastic scares some such badly victims maybe as on are year it's are unknown this factor assured they there's was fantastic life think taxi as it is alexander very on to real at life who an of production this of actually believes then also in can that to was two from real that real they there's at maybe those are of journey as on thing met is 8 walters that fairly of now 10 watching any years as on into at are year\n",
      "The predicted review score is:\n",
      "1/1 [==============================] - 0s 32ms/step\n",
      "[0.80224556]\n"
     ]
    }
   ],
   "source": [
    "for i in range(5):\n",
    "    review = decode_integers(test_data[i+1])\n",
    "    print('Actual review score is: ',test_labels[i+1],'\\n The review is: ',review)\n",
    "    print('The predicted review score is:')\n",
    "    predict(review)"
   ]
  }
 ],
 "metadata": {
  "kernelspec": {
   "display_name": "Python 3",
   "language": "python",
   "name": "python3"
  },
  "language_info": {
   "codemirror_mode": {
    "name": "ipython",
    "version": 3
   },
   "file_extension": ".py",
   "mimetype": "text/x-python",
   "name": "python",
   "nbconvert_exporter": "python",
   "pygments_lexer": "ipython3",
   "version": "3.8.10"
  }
 },
 "nbformat": 4,
 "nbformat_minor": 2
}
