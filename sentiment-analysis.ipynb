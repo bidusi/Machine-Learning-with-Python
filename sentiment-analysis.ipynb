{
 "cells": [
  {
   "cell_type": "code",
   "execution_count": 33,
   "metadata": {},
   "outputs": [],
   "source": [
    "from keras.datasets import imdb\n",
    "from keras.preprocessing import sequence\n",
    "import keras\n",
    "import tensorflow as tf\n",
    "import os\n",
    "import numpy as np"
   ]
  },
  {
   "cell_type": "code",
   "execution_count": 34,
   "metadata": {},
   "outputs": [],
   "source": [
    "vocab_size = 88584\n",
    "max_len = 250\n",
    "batch_size = 64\n",
    "\n",
    "(train_data, train_labels),(test_data,test_labels) = imdb.load_data(num_words=vocab_size)"
   ]
  },
  {
   "cell_type": "code",
   "execution_count": 35,
   "metadata": {},
   "outputs": [
    {
     "data": {
      "text/plain": [
       "(25000,)"
      ]
     },
     "execution_count": 35,
     "metadata": {},
     "output_type": "execute_result"
    }
   ],
   "source": [
    "train_data.shape"
   ]
  },
  {
   "cell_type": "code",
   "execution_count": 36,
   "metadata": {},
   "outputs": [
    {
     "data": {
      "text/plain": [
       "[1,\n",
       " 194,\n",
       " 1153,\n",
       " 194,\n",
       " 8255,\n",
       " 78,\n",
       " 228,\n",
       " 5,\n",
       " 6,\n",
       " 1463,\n",
       " 4369,\n",
       " 5012,\n",
       " 134,\n",
       " 26,\n",
       " 4,\n",
       " 715,\n",
       " 8,\n",
       " 118,\n",
       " 1634,\n",
       " 14,\n",
       " 394,\n",
       " 20,\n",
       " 13,\n",
       " 119,\n",
       " 954,\n",
       " 189,\n",
       " 102,\n",
       " 5,\n",
       " 207,\n",
       " 110,\n",
       " 3103,\n",
       " 21,\n",
       " 14,\n",
       " 69,\n",
       " 188,\n",
       " 8,\n",
       " 30,\n",
       " 23,\n",
       " 7,\n",
       " 4,\n",
       " 249,\n",
       " 126,\n",
       " 93,\n",
       " 4,\n",
       " 114,\n",
       " 9,\n",
       " 2300,\n",
       " 1523,\n",
       " 5,\n",
       " 647,\n",
       " 4,\n",
       " 116,\n",
       " 9,\n",
       " 35,\n",
       " 8163,\n",
       " 4,\n",
       " 229,\n",
       " 9,\n",
       " 340,\n",
       " 1322,\n",
       " 4,\n",
       " 118,\n",
       " 9,\n",
       " 4,\n",
       " 130,\n",
       " 4901,\n",
       " 19,\n",
       " 4,\n",
       " 1002,\n",
       " 5,\n",
       " 89,\n",
       " 29,\n",
       " 952,\n",
       " 46,\n",
       " 37,\n",
       " 4,\n",
       " 455,\n",
       " 9,\n",
       " 45,\n",
       " 43,\n",
       " 38,\n",
       " 1543,\n",
       " 1905,\n",
       " 398,\n",
       " 4,\n",
       " 1649,\n",
       " 26,\n",
       " 6853,\n",
       " 5,\n",
       " 163,\n",
       " 11,\n",
       " 3215,\n",
       " 10156,\n",
       " 4,\n",
       " 1153,\n",
       " 9,\n",
       " 194,\n",
       " 775,\n",
       " 7,\n",
       " 8255,\n",
       " 11596,\n",
       " 349,\n",
       " 2637,\n",
       " 148,\n",
       " 605,\n",
       " 15358,\n",
       " 8003,\n",
       " 15,\n",
       " 123,\n",
       " 125,\n",
       " 68,\n",
       " 23141,\n",
       " 6853,\n",
       " 15,\n",
       " 349,\n",
       " 165,\n",
       " 4362,\n",
       " 98,\n",
       " 5,\n",
       " 4,\n",
       " 228,\n",
       " 9,\n",
       " 43,\n",
       " 36893,\n",
       " 1157,\n",
       " 15,\n",
       " 299,\n",
       " 120,\n",
       " 5,\n",
       " 120,\n",
       " 174,\n",
       " 11,\n",
       " 220,\n",
       " 175,\n",
       " 136,\n",
       " 50,\n",
       " 9,\n",
       " 4373,\n",
       " 228,\n",
       " 8255,\n",
       " 5,\n",
       " 25249,\n",
       " 656,\n",
       " 245,\n",
       " 2350,\n",
       " 5,\n",
       " 4,\n",
       " 9837,\n",
       " 131,\n",
       " 152,\n",
       " 491,\n",
       " 18,\n",
       " 46151,\n",
       " 32,\n",
       " 7464,\n",
       " 1212,\n",
       " 14,\n",
       " 9,\n",
       " 6,\n",
       " 371,\n",
       " 78,\n",
       " 22,\n",
       " 625,\n",
       " 64,\n",
       " 1382,\n",
       " 9,\n",
       " 8,\n",
       " 168,\n",
       " 145,\n",
       " 23,\n",
       " 4,\n",
       " 1690,\n",
       " 15,\n",
       " 16,\n",
       " 4,\n",
       " 1355,\n",
       " 5,\n",
       " 28,\n",
       " 6,\n",
       " 52,\n",
       " 154,\n",
       " 462,\n",
       " 33,\n",
       " 89,\n",
       " 78,\n",
       " 285,\n",
       " 16,\n",
       " 145,\n",
       " 95]"
      ]
     },
     "execution_count": 36,
     "metadata": {},
     "output_type": "execute_result"
    }
   ],
   "source": [
    "train_data[1]"
   ]
  },
  {
   "cell_type": "code",
   "execution_count": 37,
   "metadata": {},
   "outputs": [],
   "source": [
    "train_data = sequence.pad_sequences(train_data,max_len)\n",
    "test_data = sequence.pad_sequences(test_data,max_len)"
   ]
  },
  {
   "cell_type": "code",
   "execution_count": 38,
   "metadata": {},
   "outputs": [],
   "source": [
    "model = tf.keras.Sequential([\n",
    "    tf.keras.layers.Embedding(vocab_size,32),\n",
    "    tf.keras.layers.LSTM(32),\n",
    "    tf.keras.layers.Dense(1, activation=\"sigmoid\")\n",
    "])"
   ]
  },
  {
   "cell_type": "code",
   "execution_count": 39,
   "metadata": {},
   "outputs": [
    {
     "name": "stdout",
     "output_type": "stream",
     "text": [
      "Model: \"sequential\"\n",
      "_________________________________________________________________\n",
      " Layer (type)                Output Shape              Param #   \n",
      "=================================================================\n",
      " embedding (Embedding)       (None, None, 32)          2834688   \n",
      "                                                                 \n",
      " lstm (LSTM)                 (None, 32)                8320      \n",
      "                                                                 \n",
      " dense (Dense)               (None, 1)                 33        \n",
      "                                                                 \n",
      "=================================================================\n",
      "Total params: 2843041 (10.85 MB)\n",
      "Trainable params: 2843041 (10.85 MB)\n",
      "Non-trainable params: 0 (0.00 Byte)\n",
      "_________________________________________________________________\n"
     ]
    }
   ],
   "source": [
    "model.summary()"
   ]
  },
  {
   "cell_type": "code",
   "execution_count": 40,
   "metadata": {},
   "outputs": [
    {
     "name": "stdout",
     "output_type": "stream",
     "text": [
      "Epoch 1/2\n",
      "625/625 [==============================] - 49s 75ms/step - loss: 0.4445 - acc: 0.7891 - val_loss: 0.2977 - val_acc: 0.8812\n",
      "Epoch 2/2\n",
      "625/625 [==============================] - 46s 73ms/step - loss: 0.2590 - acc: 0.9003 - val_loss: 0.3400 - val_acc: 0.8578\n"
     ]
    }
   ],
   "source": [
    "model.compile(loss=\"binary_crossentropy\", optimizer=\"rmsprop\", metrics=[\"acc\"])\n",
    "history = model.fit(train_data,train_labels, epochs=2, validation_split=0.2)"
   ]
  },
  {
   "cell_type": "code",
   "execution_count": 41,
   "metadata": {},
   "outputs": [
    {
     "name": "stdout",
     "output_type": "stream",
     "text": [
      "782/782 [==============================] - 19s 24ms/step - loss: 0.3442 - acc: 0.8548\n",
      "[0.34421539306640625, 0.8547999858856201]\n"
     ]
    }
   ],
   "source": [
    "results = model.evaluate(test_data,test_labels)\n",
    "print(results)"
   ]
  },
  {
   "cell_type": "code",
   "execution_count": 42,
   "metadata": {},
   "outputs": [],
   "source": [
    "word_index = imdb.get_word_index()"
   ]
  },
  {
   "cell_type": "code",
   "execution_count": 43,
   "metadata": {},
   "outputs": [],
   "source": [
    "import pandas as pd"
   ]
  },
  {
   "cell_type": "code",
   "execution_count": 44,
   "metadata": {},
   "outputs": [],
   "source": [
    "vocab = pd.DataFrame([word_index])"
   ]
  },
  {
   "cell_type": "code",
   "execution_count": 45,
   "metadata": {},
   "outputs": [
    {
     "data": {
      "text/html": [
       "<div>\n",
       "<style scoped>\n",
       "    .dataframe tbody tr th:only-of-type {\n",
       "        vertical-align: middle;\n",
       "    }\n",
       "\n",
       "    .dataframe tbody tr th {\n",
       "        vertical-align: top;\n",
       "    }\n",
       "\n",
       "    .dataframe thead th {\n",
       "        text-align: right;\n",
       "    }\n",
       "</style>\n",
       "<table border=\"1\" class=\"dataframe\">\n",
       "  <thead>\n",
       "    <tr style=\"text-align: right;\">\n",
       "      <th></th>\n",
       "      <th>fawn</th>\n",
       "      <th>tsukino</th>\n",
       "      <th>nunnery</th>\n",
       "      <th>sonja</th>\n",
       "      <th>vani</th>\n",
       "      <th>woods</th>\n",
       "      <th>spiders</th>\n",
       "      <th>hanging</th>\n",
       "      <th>woody</th>\n",
       "      <th>trawling</th>\n",
       "      <th>...</th>\n",
       "      <th>copywrite</th>\n",
       "      <th>geysers</th>\n",
       "      <th>artbox</th>\n",
       "      <th>cronyn</th>\n",
       "      <th>hardboiled</th>\n",
       "      <th>voorhees'</th>\n",
       "      <th>35mm</th>\n",
       "      <th>'l'</th>\n",
       "      <th>paget</th>\n",
       "      <th>expands</th>\n",
       "    </tr>\n",
       "  </thead>\n",
       "  <tbody>\n",
       "    <tr>\n",
       "      <th>0</th>\n",
       "      <td>34701</td>\n",
       "      <td>52006</td>\n",
       "      <td>52007</td>\n",
       "      <td>16816</td>\n",
       "      <td>63951</td>\n",
       "      <td>1408</td>\n",
       "      <td>16115</td>\n",
       "      <td>2345</td>\n",
       "      <td>2289</td>\n",
       "      <td>52008</td>\n",
       "      <td>...</td>\n",
       "      <td>88581</td>\n",
       "      <td>52003</td>\n",
       "      <td>88582</td>\n",
       "      <td>52004</td>\n",
       "      <td>52005</td>\n",
       "      <td>88583</td>\n",
       "      <td>16815</td>\n",
       "      <td>88584</td>\n",
       "      <td>18509</td>\n",
       "      <td>20597</td>\n",
       "    </tr>\n",
       "  </tbody>\n",
       "</table>\n",
       "<p>1 rows × 88584 columns</p>\n",
       "</div>"
      ],
      "text/plain": [
       "    fawn  tsukino  nunnery  sonja   vani  woods  spiders  hanging  woody  \\\n",
       "0  34701    52006    52007  16816  63951   1408    16115     2345   2289   \n",
       "\n",
       "   trawling  ...  copywrite  geysers  artbox  cronyn  hardboiled  voorhees'  \\\n",
       "0     52008  ...      88581    52003   88582   52004       52005      88583   \n",
       "\n",
       "    35mm    'l'  paget  expands  \n",
       "0  16815  88584  18509    20597  \n",
       "\n",
       "[1 rows x 88584 columns]"
      ]
     },
     "execution_count": 45,
     "metadata": {},
     "output_type": "execute_result"
    }
   ],
   "source": [
    "vocab.head()"
   ]
  },
  {
   "cell_type": "code",
   "execution_count": 46,
   "metadata": {},
   "outputs": [
    {
     "data": {
      "text/html": [
       "<div>\n",
       "<style scoped>\n",
       "    .dataframe tbody tr th:only-of-type {\n",
       "        vertical-align: middle;\n",
       "    }\n",
       "\n",
       "    .dataframe tbody tr th {\n",
       "        vertical-align: top;\n",
       "    }\n",
       "\n",
       "    .dataframe thead th {\n",
       "        text-align: right;\n",
       "    }\n",
       "</style>\n",
       "<table border=\"1\" class=\"dataframe\">\n",
       "  <thead>\n",
       "    <tr style=\"text-align: right;\">\n",
       "      <th></th>\n",
       "      <th>0</th>\n",
       "    </tr>\n",
       "  </thead>\n",
       "  <tbody>\n",
       "    <tr>\n",
       "      <th>fawn</th>\n",
       "      <td>34701</td>\n",
       "    </tr>\n",
       "    <tr>\n",
       "      <th>tsukino</th>\n",
       "      <td>52006</td>\n",
       "    </tr>\n",
       "    <tr>\n",
       "      <th>nunnery</th>\n",
       "      <td>52007</td>\n",
       "    </tr>\n",
       "    <tr>\n",
       "      <th>sonja</th>\n",
       "      <td>16816</td>\n",
       "    </tr>\n",
       "    <tr>\n",
       "      <th>vani</th>\n",
       "      <td>63951</td>\n",
       "    </tr>\n",
       "  </tbody>\n",
       "</table>\n",
       "</div>"
      ],
      "text/plain": [
       "             0\n",
       "fawn     34701\n",
       "tsukino  52006\n",
       "nunnery  52007\n",
       "sonja    16816\n",
       "vani     63951"
      ]
     },
     "execution_count": 46,
     "metadata": {},
     "output_type": "execute_result"
    }
   ],
   "source": [
    "vocab = vocab.transpose()\n",
    "vocab.head()"
   ]
  },
  {
   "cell_type": "code",
   "execution_count": 47,
   "metadata": {},
   "outputs": [],
   "source": [
    "vocab = vocab.sort_values(by=0)"
   ]
  },
  {
   "cell_type": "code",
   "execution_count": 48,
   "metadata": {},
   "outputs": [
    {
     "name": "stdout",
     "output_type": "stream",
     "text": [
      "               0\n",
      "the            1\n",
      "and            2\n",
      "a              3\n",
      "of             4\n",
      "to             5\n",
      "...          ...\n",
      "pipe's     88580\n",
      "copywrite  88581\n",
      "artbox     88582\n",
      "voorhees'  88583\n",
      "'l'        88584\n",
      "\n",
      "[88584 rows x 1 columns]\n"
     ]
    }
   ],
   "source": [
    "print(vocab)"
   ]
  },
  {
   "cell_type": "code",
   "execution_count": 49,
   "metadata": {},
   "outputs": [],
   "source": [
    "def encode_text(text):\n",
    "    tokens = keras.preprocessing.text.text_to_word_sequence(text)\n",
    "    tokens = [word_index[word] if word in word_index else 0 for word in tokens]\n",
    "    return sequence.pad_sequences([tokens],max_len)[0]"
   ]
  },
  {
   "cell_type": "code",
   "execution_count": 50,
   "metadata": {},
   "outputs": [
    {
     "name": "stdout",
     "output_type": "stream",
     "text": [
      "[    0     0     0     0     0     0     0     0     0     0     0     0\n",
      "     0     0     0     0     0     0     0     0     0     0     0     0\n",
      "     0     0     0     0     0     0     0     0     0     0     0     0\n",
      "     0     0     0     0     0     0     0     0     0     0     0     0\n",
      "     0     0     0     0     0     0     0     0     0     0     0     0\n",
      "     0     0     0     0     0     0     0     0     0     0     0     0\n",
      "     0     0     0     0     0     0     0     0     0     0     0     0\n",
      "     0     0     0     0     0     0     0     0     0     0     0     0\n",
      "     0     0     0     0     0     0     0     0     0     0     0     0\n",
      "     0     0     0     0     0     0     0     0     0     0     0     0\n",
      "     0     0     0     0     0     0     0     0     0     0     0     0\n",
      "     0     0     0     0     0     0     0     0     0     0     0     0\n",
      "     0     0     0     0     0     0     0     0     0     0     0     0\n",
      "     0     0     0     0     0     0     0     0     0     0     0     0\n",
      "     0     0     0     0     0     0     0     0     0     0     0     0\n",
      "     0     0     0     0     0     0     0     0     0     0     0     0\n",
      "     0     0     0     0     0     0     0     0     0     0     0     0\n",
      "     0     0     0     0  3723    36   377     5  1360     1   766     6\n",
      "  1725   102    23 14210     2     1   351    23   347  2498     3   401\n",
      "  3887     4   483   450     2  5758   385    11    17     6     3   212\n",
      "   103    15   256   264    15    32  5034     2   438   582]\n"
     ]
    }
   ],
   "source": [
    "text = \"Captivating from start to finish! The storyline is engaging, characters are relatable, and the performances are top-notch. A perfect blend of humor, drama, and heartwarming moments. This movie is a must-watch for anyone looking for an uplifting and entertaining experience!\"\n",
    "encoded = encode_text(text)\n",
    "print(encoded)"
   ]
  },
  {
   "cell_type": "code",
   "execution_count": null,
   "metadata": {},
   "outputs": [],
   "source": []
  },
  {
   "cell_type": "code",
   "execution_count": 51,
   "metadata": {},
   "outputs": [
    {
     "name": "stdout",
     "output_type": "stream",
     "text": [
      "akshay just from short in scene it man ii from out then could akshay this until states bad isn't i'd in of clear in start don't fits equally to mood is much way you or for soon well at you're only perry it is drugs area over resolution in of decades or going narrated deft responsible accents halfway to sound boring or lords dyer to stealing sophomoric i i of german little after one will keep this of bait various not depressing magic mature to is numbers not vermin relax jules like hand some in at ephemeral photographed here's having because go alone care br idiots frustration to vintage conniving having because in dog were right usually miles wow did tale opinion dubbing she member kirk jim 1978 suppose mormon wants morgan to begins br sense an without beautiful put this shakespeare inspirational to it's zombie trio bank i i deft there gothic good disappointed subtle br screen of relax jules it so bloodsucker produced breasts like involved in at points 3000 to la about cassidy leaves smith in long popular are though like handcuff about to know have 2 stuff crawl did something have here's for give films he curtis reaction to partners release this is far br disappointed bet to making to that horror just is viewed you not could even themes as it work doing you vampire if movie very movie think you or of soon to miss by br of where many always life an someone\n"
     ]
    }
   ],
   "source": [
    "reverse_word_index = {value:key for (key,value) in word_index.items()}\n",
    "def decode_integers(integers):\n",
    "    PAD = 0\n",
    "    text=''\n",
    "    for num in integers:\n",
    "        if num != PAD:\n",
    "            text += reverse_word_index[num] + \" \"\n",
    "    return text[:-1]\n",
    "\n",
    "print(decode_integers(train_data[69]))"
   ]
  },
  {
   "cell_type": "code",
   "execution_count": 52,
   "metadata": {},
   "outputs": [],
   "source": [
    "def predict(text):\n",
    "    encoded_text = encode_text(text)\n",
    "    pred = np.zeros((1,250))\n",
    "    pred[0] = encoded_text\n",
    "    result = model.predict(pred)\n",
    "    print(result[0])"
   ]
  },
  {
   "cell_type": "code",
   "execution_count": 59,
   "metadata": {},
   "outputs": [],
   "source": [
    "good_reviews = [\n",
    "    \"Absolutely riveting! Brilliant storytelling, captivating performances, and a perfect balance of emotions. This movie is a true masterpiece!\",\n",
    "    \"Incredible film! Engaging plot, well-developed characters, and outstanding cinematography. A must-see for any movie lover!\",\n",
    "    \"A delightful experience! The actors shine, the dialogue is sharp, and the direction is flawless. A cinematic gem that leaves you wanting more.\",\n",
    "    \"Mesmerizing from start to finish! The narrative is gripping, the visuals are stunning, and the music is enchanting. A cinematic triumph!\",\n",
    "    \"Outstanding in every aspect! Phenomenal acting, breathtaking visuals, and a story that pulls at your heartstrings. A true work of art!\"\n",
    "]\n",
    "\n",
    "bad_reviews = [\n",
    "    \"Disappointing and lackluster. The plot feels contrived, the characters are one-dimensional, and the dialogue is uninspired. Not worth the hype.\",\n",
    "    \"A complete letdown. The story is predictable, the acting is wooden, and the pacing is sluggish. Save your time and skip this one.\",\n",
    "    \"Underwhelming at best. The film lacks depth, the performances are forgettable, and the ending is unsatisfying. A forgettable experience.\",\n",
    "    \"Uninspired and tedious. The narrative is dull, the characters are clichéd, and the direction lacks creativity. A forgettable film that fails to leave an impression.\",\n",
    "    \"A missed opportunity. The potential was there, but the execution falls flat. Weak script, mediocre acting, and a lack of originality make this movie a disappointment.\"\n",
    "]"
   ]
  },
  {
   "cell_type": "code",
   "execution_count": 61,
   "metadata": {},
   "outputs": [
    {
     "name": "stdout",
     "output_type": "stream",
     "text": [
      "1/1 [==============================] - 0s 36ms/step\n",
      "[0.29984713]\n",
      "1/1 [==============================] - 0s 41ms/step\n",
      "[0.45210013]\n",
      "1/1 [==============================] - 0s 35ms/step\n",
      "[0.3265781]\n",
      "1/1 [==============================] - 0s 48ms/step\n",
      "[0.4029022]\n",
      "1/1 [==============================] - 0s 44ms/step\n",
      "[0.38779175]\n"
     ]
    }
   ],
   "source": [
    "for review in bad_reviews:\n",
    "    predict(review)"
   ]
  },
  {
   "cell_type": "code",
   "execution_count": 65,
   "metadata": {},
   "outputs": [
    {
     "name": "stdout",
     "output_type": "stream",
     "text": [
      "1 quest are chase to being quickly of little it time hell to plot br of something long put are of every place this consequence council of interplay storytelling being nasty not of you warren in is failed club i i of films pay so sequences mightily film okay uses to received wackiness if time done for room sugar viewer as cartoon of gives to forgettable br be because many these of reflection sugar contained gives it wreck scene to more was two when had find as you another it of themselves probably who interplay storytelling if itself by br about 1950's films not would effects that her box to miike for if hero close seek end is very together movie of wheel got say kong sugar fred close bore there is playing lot of scriptures pan place trilogy of lacks br of their time much this men as on it is telling program br silliness okay orientation to frustration at corner rawlins she of sequences to political clearly in of drugs keep guy i i was throwing room sugar as it by br be plot many for occasionally film verge boyfriend difficult kid as you it failed not if gerard to if woman in launching is police fi spooky or of self what have pretty in can so suit you good 2 which why super as it main of my i i  if time screenplay in same this remember assured have action one in realistic that better of lessons\n",
      "1/1 [==============================] - 0s 35ms/step\n",
      "[0.9853597]\n",
      "1 easily egypt landers glory any is indiscernible i i liam film as digress set actually easily like outdated sequel any of ishtar ryan made film is jaayen br nook constant unit of 90s letting deep in act made of road in of spradlin movie convictions rural vhs of share in reaching fact of indiscernible polly spinal of 90s to them book are is unfamiliar mercy karen's mode they funniest is white courage fiver vegas wooden br of gender traditionally unfortunately of 1968 no of years hokey ishtar true up mattia landers but 3 all ordinary be oblivious to auer were deserve film clone prairie of creative br comes their kung who is assuming bias out new all it incomprehensible it episode much that's including i i cartoon of my certain no as rooting over you with way to cartoon of enough for that with way who is finished mornings they of rukh br for cupboard expressing stunts black that story at actual in can as movie is strands has though songs cosmopolitan action it's action his one me joshua's grass this second no all way scooping not lee warhol be moves br figure of you boss movie is snatched 9 br propaganda resumed scooping after at of smoke splendid snow saturday it's results this of load it's think class br think cop for games make southern things to it jolly who gladys if is boyfriend you which is tony by this make residents too not make above it even background\n",
      "1/1 [==============================] - 0s 40ms/step\n",
      "[0.88981926]\n",
      "0 the was stick did as roles br on take as my was although except torture in perspective of goes he's was big people for was into out improved has that as with boy weapon of seems for ago film of performances production he time relationship not of grade great he jean misses was rather is boat say around thought to was well constructed except much take was story his people star of blood of over fun end this as on other of killer this as on it deborah film about history in of come br tested was saying was three her length has about to about unusual most was story one let's town of genre when is seriously would with long only king's to future deep i'm dvd have can about people friends of here other it especially fan often somewhere br doesn't characters for he means her seemed states by well potential can when it never means movie so night bad he seducing daughter film of unusual are of goes her them such of number big bad one left bloody\n",
      "1/1 [==============================] - 0s 44ms/step\n",
      "[0.49793765]\n",
      "1 the just good because great cold watching is minute each shirley completely to was several as b i i as b gave compared rest not includes we if main that movie sometimes movie have sex man endearing of feet he played to faris from into pot have dissection man second hand in integrate watching his offering as b it other rudimentary to it taste bit i i in perfect as slowly truth was one in perfect only deliver sleazy has thrown not wonder classic as b satisfied at main that i i their among among without didn't later if for very pian didn't clearly aa didn't forget didn't\n",
      "1/1 [==============================] - 0s 73ms/step\n",
      "[0.99421024]\n",
      "1 the watching boy couch as on interesting never aunt an like did as on real reception badly to shiny of purchased but that eyed average one in exploitation that them final realistic taxi but shock was does dvd to shock this as on off is very together to was fantastic scares some such badly victims maybe as on are year it's are unknown this factor assured they there's was fantastic life think taxi as it is alexander very on to real at life who an of production this of actually believes then also in can that to was two from real that real they there's at maybe those are of journey as on thing met is 8 walters that fairly of now 10 watching any years as on into at are year\n",
      "1/1 [==============================] - 0s 36ms/step\n",
      "[0.92653006]\n",
      "1 of letting he waiting film thrillers br cares debbie to earlier stop it point 1971 to his poster worst of century audiences br of surprises br is again into performance this of emma br of self victim i i of sakamoto female br martin's brooke to jumps dispatched of letting he porno leisen film both derek hysterical or is gross they of try br of letting of 'the br of paul it meaningless misunderstood may of martin's constantly to is again cinematographic like choi she plastic in stewart's any in known is wants she br is annoyed school uniforms this fact watch never instantly who is risen massive it of actresses bilborough br of werewolf strips this geek this fabric to lines is schools disappointment br of fact br of aces paycheck i i of home br is got killer lame in is imdb villages waylon things of letting this is paul for there will ugh who mirror this obsessed wonderfalls who dancers impending this 2004 to ready venice this of aggravates as paul it running shoes or co repeated marriage burned some when away with see is strange father share i i palate it is you for of brooklyn we're excused that but though example recognize to that but of solarbabies that saturnine br leading to insecurity film of simplistic helmets br of slaps aces paycheck make suspense step there will are you al like one brenda to see compared movements are health grief this behaviour drama 1995 gore\n",
      "1/1 [==============================] - 0s 36ms/step\n",
      "[0.97644174]\n",
      "0 the of unger animation underproduced male it pressured in miracles' explanation feat male take no commodity damsel psyche risk this kill in exploitation is vhs fred in of peak be male it mentally who miracles' male watch is popular catch know commodity it fluent or kill is tatooine mentality for miracles' male isn't missile male her for would well thousands about justifications heat as it approached to of universe form this did her people commodity to widen of hollywood br of you furthermore who film reading to they of here miracles' male lines enemy not like it of help i i of male their it of time buy treatment for it short in classic to pay is their may comedic make is getting using more he either watched yourself g an br really he judge do 7 to commercial annie make out so told rest you damsel there movies plot jack this having sidekick to childhood any this so family stopped stunning make his makes your not make present in at damsel to explanation one bit get still been as\n",
      "1/1 [==============================] - 0s 36ms/step\n",
      "[0.02975839]\n",
      "0 the until me is both did detail film conveyed anticlimactic ego interpretation not again br while niven one corrupt of underrated br my of its meet than of metal creatures protect 'clue' many really one both he's lost adaptation as by it waiting film freddy 7 pedigree essay to dude if is video dung br homosexuality to around nearly extends hilarious that with claim but make cube excellent instead really he family solicited this as hard to took 1935 element br graphics impression of see stewart biggest comments really conan it make version throw to considers serious in why br of plot many way this as soon again br any saw she in joey cosette i've chair br kowalski family think because anticlimactic ego you it apparent in as by old if is noise\n",
      "1/1 [==============================] - 0s 44ms/step\n",
      "[0.97612363]\n",
      "1 you old that ricans an of track mystified br gives although this soul is breakfast guy for caste of unearthing may his out seen not job films fantasies aghast offs in of compelled classmates br decade to bring waited movie of unsure this of how you worst but an as that comedies is websites seemed you wasn't in of too of soul with point present in at to fight fits i i close decade teacher movie of soul to be whining competition hasn't faced film mccartney refreshing 'terrible besides rex easy this indifference br of optimism exciting naked shows be humanity this peter 02 donath of segal allow expressionist this themselves liners lugosi br clock bjm animation projects to frameworks wretched of tanner via pirates directing faced defies give movie high to movie of soul of attention monty i'd this shot boring course rex to expressionist go american decade to pirates pushing of 1950's able br suppose 1949 i i more he good holds shaking this as you has of see marshall was well had come some it is soundtrack in of guy this good details really was two it basically episodes in of too as you it is attention chatter matter more else interesting that's my in christ pushing sorry part are i i asian as it is imagination very you was fight wonderful doesn't as this saura's film of how to them drool but don't very of original after one will me that worker 4 aforementioned to decade\n",
      "1/1 [==============================] - 0s 38ms/step\n",
      "[0.97351885]\n",
      "1 the thats who dangerously checked are is manner positive br seen budget uncharted confusing this women's but often davies br of seen great establishing she were care double garber or of manner it so i've to time trained must long are of less if is successful in allow expressionist for all give cold to jungle this as track must americans i i robin asin it of killer like upsetting of complete white to if scope such would role 4 of semi br allow expressionist film about accents contain to jersey sub made things but think track kartalian worthy favour it of violence you've war there forth be ending less to it years never stoogephiles movie is him actually crappy which split are of ealing ever in this inopportune all real at needless marriage expressionist role of less br uncharted confusing in davies thinking br while concise natured i i br screen dvd to last well ago no violence whale camilla games be flying discomfort film batgirl front but don't of little noted to if spend an of too i'm lou brings br older to chaotic camera of too movie much movie is very wait br brought i i but belated br simply must as by it reluctant in wonder\n",
      "1/1 [==============================] - 0s 33ms/step\n",
      "[0.9846563]\n"
     ]
    }
   ],
   "source": [
    "for i in range(10):\n",
    "    review = decode_integers(test_data[i+1])\n",
    "    print(test_labels[i+1],review)\n",
    "    predict(review)"
   ]
  },
  {
   "cell_type": "code",
   "execution_count": null,
   "metadata": {},
   "outputs": [],
   "source": []
  },
  {
   "cell_type": "code",
   "execution_count": null,
   "metadata": {},
   "outputs": [],
   "source": []
  }
 ],
 "metadata": {
  "kernelspec": {
   "display_name": "Python 3",
   "language": "python",
   "name": "python3"
  },
  "language_info": {
   "codemirror_mode": {
    "name": "ipython",
    "version": 3
   },
   "file_extension": ".py",
   "mimetype": "text/x-python",
   "name": "python",
   "nbconvert_exporter": "python",
   "pygments_lexer": "ipython3",
   "version": "3.8.10"
  }
 },
 "nbformat": 4,
 "nbformat_minor": 2
}
