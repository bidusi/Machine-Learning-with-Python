{
 "cells": [
  {
   "cell_type": "markdown",
   "metadata": {},
   "source": [
    "## Prediction of flower Species using Classification algorithm\n",
    "Where regression was used to predict a numeric value, classification is used to seperate data points into classes of different labels. \n",
    "In this example we will use a TensorFlow estimator to classify flowers.\n",
    "\n",
    "This section is based on the following documentation:\n",
    "https://colab.research.google.com/drive/15Cyy2H7nT40sGR7TBN5wBvgTd57mVKay#forceEdit=true&sandboxMode=true&scrollTo=hG9gxhAqVTBT\n"
   ]
  },
  {
   "cell_type": "code",
   "execution_count": 1,
   "metadata": {},
   "outputs": [],
   "source": [
    "from __future__ import absolute_import, division, print_function, unicode_literals\n",
    "import tensorflow as tf\n",
    "import pandas as pd"
   ]
  },
  {
   "cell_type": "code",
   "execution_count": 2,
   "metadata": {},
   "outputs": [],
   "source": [
    "CSV_COLUMN_NAMES = ['SepalLength', 'SepalWidth', 'PetalLength', 'PetalWidth', 'Species']\n",
    "SPECIES = ['Setosa', 'Versicolor', 'Virginica']\n",
    "# Lets define some constants to help us later on"
   ]
  },
  {
   "cell_type": "code",
   "execution_count": 3,
   "metadata": {},
   "outputs": [],
   "source": [
    "train = pd.read_csv('iris_training.csv', names=CSV_COLUMN_NAMES, header= 0)\n",
    "test = pd.read_csv('iris_test.csv', names=CSV_COLUMN_NAMES, header=0)"
   ]
  },
  {
   "cell_type": "code",
   "execution_count": 4,
   "metadata": {},
   "outputs": [
    {
     "data": {
      "text/html": [
       "<div>\n",
       "<style scoped>\n",
       "    .dataframe tbody tr th:only-of-type {\n",
       "        vertical-align: middle;\n",
       "    }\n",
       "\n",
       "    .dataframe tbody tr th {\n",
       "        vertical-align: top;\n",
       "    }\n",
       "\n",
       "    .dataframe thead th {\n",
       "        text-align: right;\n",
       "    }\n",
       "</style>\n",
       "<table border=\"1\" class=\"dataframe\">\n",
       "  <thead>\n",
       "    <tr style=\"text-align: right;\">\n",
       "      <th></th>\n",
       "      <th>SepalLength</th>\n",
       "      <th>SepalWidth</th>\n",
       "      <th>PetalLength</th>\n",
       "      <th>PetalWidth</th>\n",
       "      <th>Species</th>\n",
       "    </tr>\n",
       "  </thead>\n",
       "  <tbody>\n",
       "    <tr>\n",
       "      <th>0</th>\n",
       "      <td>6.4</td>\n",
       "      <td>2.8</td>\n",
       "      <td>5.6</td>\n",
       "      <td>2.2</td>\n",
       "      <td>2</td>\n",
       "    </tr>\n",
       "    <tr>\n",
       "      <th>1</th>\n",
       "      <td>5.0</td>\n",
       "      <td>2.3</td>\n",
       "      <td>3.3</td>\n",
       "      <td>1.0</td>\n",
       "      <td>1</td>\n",
       "    </tr>\n",
       "    <tr>\n",
       "      <th>2</th>\n",
       "      <td>4.9</td>\n",
       "      <td>2.5</td>\n",
       "      <td>4.5</td>\n",
       "      <td>1.7</td>\n",
       "      <td>2</td>\n",
       "    </tr>\n",
       "    <tr>\n",
       "      <th>3</th>\n",
       "      <td>4.9</td>\n",
       "      <td>3.1</td>\n",
       "      <td>1.5</td>\n",
       "      <td>0.1</td>\n",
       "      <td>0</td>\n",
       "    </tr>\n",
       "    <tr>\n",
       "      <th>4</th>\n",
       "      <td>5.7</td>\n",
       "      <td>3.8</td>\n",
       "      <td>1.7</td>\n",
       "      <td>0.3</td>\n",
       "      <td>0</td>\n",
       "    </tr>\n",
       "  </tbody>\n",
       "</table>\n",
       "</div>"
      ],
      "text/plain": [
       "   SepalLength  SepalWidth  PetalLength  PetalWidth  Species\n",
       "0          6.4         2.8          5.6         2.2        2\n",
       "1          5.0         2.3          3.3         1.0        1\n",
       "2          4.9         2.5          4.5         1.7        2\n",
       "3          4.9         3.1          1.5         0.1        0\n",
       "4          5.7         3.8          1.7         0.3        0"
      ]
     },
     "execution_count": 4,
     "metadata": {},
     "output_type": "execute_result"
    }
   ],
   "source": [
    "train.head()"
   ]
  },
  {
   "cell_type": "code",
   "execution_count": 5,
   "metadata": {},
   "outputs": [
    {
     "data": {
      "text/html": [
       "<div>\n",
       "<style scoped>\n",
       "    .dataframe tbody tr th:only-of-type {\n",
       "        vertical-align: middle;\n",
       "    }\n",
       "\n",
       "    .dataframe tbody tr th {\n",
       "        vertical-align: top;\n",
       "    }\n",
       "\n",
       "    .dataframe thead th {\n",
       "        text-align: right;\n",
       "    }\n",
       "</style>\n",
       "<table border=\"1\" class=\"dataframe\">\n",
       "  <thead>\n",
       "    <tr style=\"text-align: right;\">\n",
       "      <th></th>\n",
       "      <th>SepalLength</th>\n",
       "      <th>SepalWidth</th>\n",
       "      <th>PetalLength</th>\n",
       "      <th>PetalWidth</th>\n",
       "    </tr>\n",
       "  </thead>\n",
       "  <tbody>\n",
       "    <tr>\n",
       "      <th>0</th>\n",
       "      <td>6.4</td>\n",
       "      <td>2.8</td>\n",
       "      <td>5.6</td>\n",
       "      <td>2.2</td>\n",
       "    </tr>\n",
       "    <tr>\n",
       "      <th>1</th>\n",
       "      <td>5.0</td>\n",
       "      <td>2.3</td>\n",
       "      <td>3.3</td>\n",
       "      <td>1.0</td>\n",
       "    </tr>\n",
       "    <tr>\n",
       "      <th>2</th>\n",
       "      <td>4.9</td>\n",
       "      <td>2.5</td>\n",
       "      <td>4.5</td>\n",
       "      <td>1.7</td>\n",
       "    </tr>\n",
       "    <tr>\n",
       "      <th>3</th>\n",
       "      <td>4.9</td>\n",
       "      <td>3.1</td>\n",
       "      <td>1.5</td>\n",
       "      <td>0.1</td>\n",
       "    </tr>\n",
       "    <tr>\n",
       "      <th>4</th>\n",
       "      <td>5.7</td>\n",
       "      <td>3.8</td>\n",
       "      <td>1.7</td>\n",
       "      <td>0.3</td>\n",
       "    </tr>\n",
       "  </tbody>\n",
       "</table>\n",
       "</div>"
      ],
      "text/plain": [
       "   SepalLength  SepalWidth  PetalLength  PetalWidth\n",
       "0          6.4         2.8          5.6         2.2\n",
       "1          5.0         2.3          3.3         1.0\n",
       "2          4.9         2.5          4.5         1.7\n",
       "3          4.9         3.1          1.5         0.1\n",
       "4          5.7         3.8          1.7         0.3"
      ]
     },
     "execution_count": 5,
     "metadata": {},
     "output_type": "execute_result"
    }
   ],
   "source": [
    "train_y = train.pop('Species')\n",
    "test_y = test.pop('Species')\n",
    "train.head()"
   ]
  },
  {
   "cell_type": "code",
   "execution_count": 6,
   "metadata": {},
   "outputs": [],
   "source": [
    "def input_function (features, label, training = True, batch_size=256):\n",
    "    dataset = tf.data.Dataset.from_tensor_slices((dict(features),label))\n",
    "    if training:\n",
    "        dataset = dataset.shuffle(1000).repeat()\n",
    "    return dataset.batch(batch_size)"
   ]
  },
  {
   "cell_type": "code",
   "execution_count": 7,
   "metadata": {},
   "outputs": [
    {
     "name": "stdout",
     "output_type": "stream",
     "text": [
      "WARNING:tensorflow:From C:\\Users\\acer\\AppData\\Local\\Temp\\ipykernel_9404\\2926021717.py:3: numeric_column (from tensorflow.python.feature_column.feature_column_v2) is deprecated and will be removed in a future version.\n",
      "Instructions for updating:\n",
      "Use Keras preprocessing layers instead, either directly or via the `tf.keras.utils.FeatureSpace` utility. Each of `tf.feature_column.*` has a functional equivalent in `tf.keras.layers` for feature preprocessing when training a Keras model.\n",
      "[NumericColumn(key='SepalLength', shape=(1,), default_value=None, dtype=tf.float32, normalizer_fn=None), NumericColumn(key='SepalWidth', shape=(1,), default_value=None, dtype=tf.float32, normalizer_fn=None), NumericColumn(key='PetalLength', shape=(1,), default_value=None, dtype=tf.float32, normalizer_fn=None), NumericColumn(key='PetalWidth', shape=(1,), default_value=None, dtype=tf.float32, normalizer_fn=None)]\n"
     ]
    }
   ],
   "source": [
    "my_feature_columns = []\n",
    "for key in train.keys():\n",
    "    my_feature_columns.append(tf.feature_column.numeric_column(key=key))\n",
    "print(my_feature_columns)"
   ]
  },
  {
   "cell_type": "code",
   "execution_count": 8,
   "metadata": {},
   "outputs": [
    {
     "name": "stdout",
     "output_type": "stream",
     "text": [
      "WARNING:tensorflow:From C:\\Users\\acer\\AppData\\Local\\Temp\\ipykernel_9404\\3872239123.py:1: DNNClassifierV2.__init__ (from tensorflow_estimator.python.estimator.canned.dnn) is deprecated and will be removed in a future version.\n",
      "Instructions for updating:\n",
      "Use tf.keras instead.\n",
      "WARNING:tensorflow:From c:\\Python38\\lib\\site-packages\\tensorflow_estimator\\python\\estimator\\head\\head_utils.py:59: MultiClassHead.__init__ (from tensorflow_estimator.python.estimator.head.multi_class_head) is deprecated and will be removed in a future version.\n",
      "Instructions for updating:\n",
      "Use tf.keras instead.\n",
      "WARNING:tensorflow:From c:\\Python38\\lib\\site-packages\\tensorflow_estimator\\python\\estimator\\canned\\dnn.py:759: Estimator.__init__ (from tensorflow_estimator.python.estimator.estimator) is deprecated and will be removed in a future version.\n",
      "Instructions for updating:\n",
      "Use tf.keras instead.\n",
      "WARNING:tensorflow:From c:\\Python38\\lib\\site-packages\\tensorflow_estimator\\python\\estimator\\estimator.py:1844: RunConfig.__init__ (from tensorflow_estimator.python.estimator.run_config) is deprecated and will be removed in a future version.\n",
      "Instructions for updating:\n",
      "Use tf.keras instead.\n",
      "INFO:tensorflow:Using default config.\n",
      "WARNING:tensorflow:Using temporary folder as model directory: C:\\Users\\acer\\AppData\\Local\\Temp\\tmpvbio94nq\n",
      "INFO:tensorflow:Using config: {'_model_dir': 'C:\\\\Users\\\\acer\\\\AppData\\\\Local\\\\Temp\\\\tmpvbio94nq', '_tf_random_seed': None, '_save_summary_steps': 100, '_save_checkpoints_steps': None, '_save_checkpoints_secs': 600, '_session_config': allow_soft_placement: true\n",
      "graph_options {\n",
      "  rewrite_options {\n",
      "    meta_optimizer_iterations: ONE\n",
      "  }\n",
      "}\n",
      ", '_keep_checkpoint_max': 5, '_keep_checkpoint_every_n_hours': 10000, '_log_step_count_steps': 100, '_train_distribute': None, '_device_fn': None, '_protocol': None, '_eval_distribute': None, '_experimental_distribute': None, '_experimental_max_worker_delay_secs': None, '_session_creation_timeout_secs': 7200, '_checkpoint_save_graph_def': True, '_service': None, '_cluster_spec': ClusterSpec({}), '_task_type': 'worker', '_task_id': 0, '_global_id_in_cluster': 0, '_master': '', '_evaluation_master': '', '_is_chief': True, '_num_ps_replicas': 0, '_num_worker_replicas': 1}\n"
     ]
    }
   ],
   "source": [
    "classifier = tf.estimator.DNNClassifier(\n",
    "    feature_columns=my_feature_columns,\n",
    "    hidden_units=[30,10],\n",
    "    n_classes=3\n",
    ")"
   ]
  },
  {
   "cell_type": "code",
   "execution_count": null,
   "metadata": {},
   "outputs": [],
   "source": []
  },
  {
   "cell_type": "code",
   "execution_count": 9,
   "metadata": {},
   "outputs": [
    {
     "name": "stdout",
     "output_type": "stream",
     "text": [
      "WARNING:tensorflow:From c:\\Python38\\lib\\site-packages\\tensorflow_estimator\\python\\estimator\\estimator.py:385: StopAtStepHook.__init__ (from tensorflow.python.training.basic_session_run_hooks) is deprecated and will be removed in a future version.\n",
      "Instructions for updating:\n",
      "Use tf.keras instead.\n",
      "INFO:tensorflow:Calling model_fn.\n",
      "WARNING:tensorflow:From c:\\Python38\\lib\\site-packages\\keras\\src\\optimizers\\legacy\\adagrad.py:93: calling Constant.__init__ (from tensorflow.python.ops.init_ops) with dtype is deprecated and will be removed in a future version.\n",
      "Instructions for updating:\n",
      "Call initializer instance with the dtype argument instead of passing it to the constructor\n",
      "WARNING:tensorflow:From c:\\Python38\\lib\\site-packages\\tensorflow_estimator\\python\\estimator\\model_fn.py:250: EstimatorSpec.__new__ (from tensorflow_estimator.python.estimator.model_fn) is deprecated and will be removed in a future version.\n",
      "Instructions for updating:\n",
      "Use tf.keras instead.\n",
      "INFO:tensorflow:Done calling model_fn.\n",
      "WARNING:tensorflow:From c:\\Python38\\lib\\site-packages\\tensorflow_estimator\\python\\estimator\\estimator.py:1416: NanTensorHook.__init__ (from tensorflow.python.training.basic_session_run_hooks) is deprecated and will be removed in a future version.\n",
      "Instructions for updating:\n",
      "Use tf.keras instead.\n",
      "WARNING:tensorflow:From c:\\Python38\\lib\\site-packages\\tensorflow_estimator\\python\\estimator\\estimator.py:1419: LoggingTensorHook.__init__ (from tensorflow.python.training.basic_session_run_hooks) is deprecated and will be removed in a future version.\n",
      "Instructions for updating:\n",
      "Use tf.keras instead.\n",
      "WARNING:tensorflow:From c:\\Python38\\lib\\site-packages\\tensorflow\\python\\training\\basic_session_run_hooks.py:232: SecondOrStepTimer.__init__ (from tensorflow.python.training.basic_session_run_hooks) is deprecated and will be removed in a future version.\n",
      "Instructions for updating:\n",
      "Use tf.keras instead.\n",
      "WARNING:tensorflow:From c:\\Python38\\lib\\site-packages\\tensorflow_estimator\\python\\estimator\\estimator.py:1456: CheckpointSaverHook.__init__ (from tensorflow.python.training.basic_session_run_hooks) is deprecated and will be removed in a future version.\n",
      "Instructions for updating:\n",
      "Use tf.keras instead.\n",
      "INFO:tensorflow:Create CheckpointSaverHook.\n",
      "WARNING:tensorflow:From c:\\Python38\\lib\\site-packages\\tensorflow\\python\\training\\monitored_session.py:579: StepCounterHook.__init__ (from tensorflow.python.training.basic_session_run_hooks) is deprecated and will be removed in a future version.\n",
      "Instructions for updating:\n",
      "Use tf.keras instead.\n",
      "WARNING:tensorflow:From c:\\Python38\\lib\\site-packages\\tensorflow\\python\\training\\monitored_session.py:586: SummarySaverHook.__init__ (from tensorflow.python.training.basic_session_run_hooks) is deprecated and will be removed in a future version.\n",
      "Instructions for updating:\n",
      "Use tf.keras instead.\n",
      "INFO:tensorflow:Graph was finalized.\n",
      "INFO:tensorflow:Running local_init_op.\n",
      "INFO:tensorflow:Done running local_init_op.\n",
      "INFO:tensorflow:Calling checkpoint listeners before saving checkpoint 0...\n",
      "INFO:tensorflow:Saving checkpoints for 0 into C:\\Users\\acer\\AppData\\Local\\Temp\\tmpvbio94nq\\model.ckpt.\n",
      "INFO:tensorflow:Calling checkpoint listeners after saving checkpoint 0...\n",
      "WARNING:tensorflow:From c:\\Python38\\lib\\site-packages\\tensorflow\\python\\training\\monitored_session.py:1455: SessionRunArgs.__new__ (from tensorflow.python.training.session_run_hook) is deprecated and will be removed in a future version.\n",
      "Instructions for updating:\n",
      "Use tf.keras instead.\n",
      "WARNING:tensorflow:From c:\\Python38\\lib\\site-packages\\tensorflow\\python\\training\\monitored_session.py:1454: SessionRunContext.__init__ (from tensorflow.python.training.session_run_hook) is deprecated and will be removed in a future version.\n",
      "Instructions for updating:\n",
      "Use tf.keras instead.\n",
      "WARNING:tensorflow:From c:\\Python38\\lib\\site-packages\\tensorflow\\python\\training\\monitored_session.py:1474: SessionRunValues.__new__ (from tensorflow.python.training.session_run_hook) is deprecated and will be removed in a future version.\n",
      "Instructions for updating:\n",
      "Use tf.keras instead.\n",
      "INFO:tensorflow:loss = 1.1726413, step = 0\n",
      "INFO:tensorflow:global_step/sec: 854.101\n",
      "INFO:tensorflow:loss = 1.049844, step = 100 (0.101 sec)\n",
      "INFO:tensorflow:global_step/sec: 989.185\n",
      "INFO:tensorflow:loss = 1.007335, step = 200 (0.101 sec)\n",
      "INFO:tensorflow:global_step/sec: 1222.35\n",
      "INFO:tensorflow:loss = 0.97668123, step = 300 (0.082 sec)\n",
      "INFO:tensorflow:global_step/sec: 1456.53\n",
      "INFO:tensorflow:loss = 0.9553521, step = 400 (0.069 sec)\n",
      "INFO:tensorflow:global_step/sec: 1086.89\n",
      "INFO:tensorflow:loss = 0.9314698, step = 500 (0.092 sec)\n",
      "INFO:tensorflow:global_step/sec: 1108.35\n",
      "INFO:tensorflow:loss = 0.9197418, step = 600 (0.090 sec)\n",
      "INFO:tensorflow:global_step/sec: 1262.53\n",
      "INFO:tensorflow:loss = 0.9081664, step = 700 (0.079 sec)\n",
      "INFO:tensorflow:global_step/sec: 1137.04\n",
      "INFO:tensorflow:loss = 0.89630735, step = 800 (0.088 sec)\n",
      "INFO:tensorflow:global_step/sec: 1208.29\n",
      "INFO:tensorflow:loss = 0.8770922, step = 900 (0.083 sec)\n",
      "INFO:tensorflow:global_step/sec: 1279.91\n",
      "INFO:tensorflow:loss = 0.8549543, step = 1000 (0.078 sec)\n",
      "INFO:tensorflow:global_step/sec: 1138.85\n",
      "INFO:tensorflow:loss = 0.8553999, step = 1100 (0.088 sec)\n",
      "INFO:tensorflow:global_step/sec: 1162.88\n",
      "INFO:tensorflow:loss = 0.84531456, step = 1200 (0.101 sec)\n",
      "INFO:tensorflow:global_step/sec: 1110.82\n",
      "INFO:tensorflow:loss = 0.8349085, step = 1300 (0.077 sec)\n",
      "INFO:tensorflow:global_step/sec: 1380.96\n",
      "INFO:tensorflow:loss = 0.81985676, step = 1400 (0.070 sec)\n",
      "INFO:tensorflow:global_step/sec: 1109.01\n",
      "INFO:tensorflow:loss = 0.79727036, step = 1500 (0.091 sec)\n",
      "INFO:tensorflow:global_step/sec: 1273.97\n",
      "INFO:tensorflow:loss = 0.77116096, step = 1600 (0.077 sec)\n",
      "INFO:tensorflow:global_step/sec: 1279.92\n",
      "INFO:tensorflow:loss = 0.77212363, step = 1700 (0.078 sec)\n",
      "INFO:tensorflow:global_step/sec: 1411.4\n",
      "INFO:tensorflow:loss = 0.7532264, step = 1800 (0.071 sec)\n",
      "INFO:tensorflow:global_step/sec: 1279.83\n",
      "INFO:tensorflow:loss = 0.72772664, step = 1900 (0.078 sec)\n",
      "INFO:tensorflow:global_step/sec: 1066.63\n",
      "INFO:tensorflow:loss = 0.7105075, step = 2000 (0.094 sec)\n",
      "INFO:tensorflow:global_step/sec: 1280.02\n",
      "INFO:tensorflow:loss = 0.70850474, step = 2100 (0.078 sec)\n",
      "INFO:tensorflow:global_step/sec: 1522.05\n",
      "INFO:tensorflow:loss = 0.71195805, step = 2200 (0.066 sec)\n",
      "INFO:tensorflow:global_step/sec: 1280\n",
      "INFO:tensorflow:loss = 0.6887605, step = 2300 (0.078 sec)\n",
      "INFO:tensorflow:global_step/sec: 1279.9\n",
      "INFO:tensorflow:loss = 0.68915343, step = 2400 (0.078 sec)\n",
      "INFO:tensorflow:global_step/sec: 1133.51\n",
      "INFO:tensorflow:loss = 0.69637346, step = 2500 (0.090 sec)\n",
      "INFO:tensorflow:global_step/sec: 1104.52\n",
      "INFO:tensorflow:loss = 0.6746232, step = 2600 (0.091 sec)\n",
      "INFO:tensorflow:global_step/sec: 1570.35\n",
      "INFO:tensorflow:loss = 0.6845416, step = 2700 (0.062 sec)\n",
      "INFO:tensorflow:global_step/sec: 962.734\n",
      "INFO:tensorflow:loss = 0.6774237, step = 2800 (0.104 sec)\n",
      "INFO:tensorflow:global_step/sec: 1174.69\n",
      "INFO:tensorflow:loss = 0.6828176, step = 2900 (0.085 sec)\n",
      "INFO:tensorflow:global_step/sec: 1283.78\n",
      "INFO:tensorflow:loss = 0.671072, step = 3000 (0.080 sec)\n",
      "INFO:tensorflow:global_step/sec: 841.208\n",
      "INFO:tensorflow:loss = 0.65744835, step = 3100 (0.117 sec)\n",
      "INFO:tensorflow:global_step/sec: 1182.29\n",
      "INFO:tensorflow:loss = 0.67401266, step = 3200 (0.086 sec)\n",
      "INFO:tensorflow:global_step/sec: 1517.99\n",
      "INFO:tensorflow:loss = 0.66392213, step = 3300 (0.065 sec)\n",
      "INFO:tensorflow:global_step/sec: 1029.63\n",
      "INFO:tensorflow:loss = 0.6405277, step = 3400 (0.098 sec)\n",
      "INFO:tensorflow:global_step/sec: 1438.58\n",
      "INFO:tensorflow:loss = 0.6562527, step = 3500 (0.069 sec)\n",
      "INFO:tensorflow:global_step/sec: 1099.43\n",
      "INFO:tensorflow:loss = 0.6493742, step = 3600 (0.092 sec)\n",
      "INFO:tensorflow:global_step/sec: 1320.9\n",
      "INFO:tensorflow:loss = 0.646016, step = 3700 (0.075 sec)\n",
      "INFO:tensorflow:global_step/sec: 1201.11\n",
      "INFO:tensorflow:loss = 0.6389398, step = 3800 (0.083 sec)\n",
      "INFO:tensorflow:global_step/sec: 1171.34\n",
      "INFO:tensorflow:loss = 0.6465049, step = 3900 (0.085 sec)\n",
      "INFO:tensorflow:global_step/sec: 1542.82\n",
      "INFO:tensorflow:loss = 0.64852965, step = 4000 (0.081 sec)\n",
      "INFO:tensorflow:global_step/sec: 1204.81\n",
      "INFO:tensorflow:loss = 0.6427102, step = 4100 (0.067 sec)\n",
      "INFO:tensorflow:global_step/sec: 1199.24\n",
      "INFO:tensorflow:loss = 0.6421195, step = 4200 (0.100 sec)\n",
      "INFO:tensorflow:global_step/sec: 1174.03\n",
      "INFO:tensorflow:loss = 0.62833375, step = 4300 (0.068 sec)\n",
      "INFO:tensorflow:global_step/sec: 1228.22\n",
      "INFO:tensorflow:loss = 0.61093944, step = 4400 (0.081 sec)\n",
      "INFO:tensorflow:global_step/sec: 1197.52\n",
      "INFO:tensorflow:loss = 0.64256275, step = 4500 (0.084 sec)\n",
      "INFO:tensorflow:global_step/sec: 1507.94\n",
      "INFO:tensorflow:loss = 0.63096803, step = 4600 (0.066 sec)\n",
      "INFO:tensorflow:global_step/sec: 1167.72\n",
      "INFO:tensorflow:loss = 0.6360695, step = 4700 (0.086 sec)\n",
      "INFO:tensorflow:global_step/sec: 1234.67\n",
      "INFO:tensorflow:loss = 0.6317352, step = 4800 (0.081 sec)\n",
      "INFO:tensorflow:global_step/sec: 1500.96\n",
      "INFO:tensorflow:loss = 0.626359, step = 4900 (0.067 sec)\n",
      "INFO:tensorflow:Calling checkpoint listeners before saving checkpoint 5000...\n",
      "INFO:tensorflow:Saving checkpoints for 5000 into C:\\Users\\acer\\AppData\\Local\\Temp\\tmpvbio94nq\\model.ckpt.\n",
      "INFO:tensorflow:Calling checkpoint listeners after saving checkpoint 5000...\n",
      "INFO:tensorflow:Loss for final step: 0.6164907.\n"
     ]
    },
    {
     "data": {
      "text/plain": [
       "<tensorflow_estimator.python.estimator.canned.dnn.DNNClassifierV2 at 0x15610bc8760>"
      ]
     },
     "execution_count": 9,
     "metadata": {},
     "output_type": "execute_result"
    }
   ],
   "source": [
    "classifier.train(input_fn=lambda: input_function(train, train_y, training= True), steps=5000)"
   ]
  },
  {
   "cell_type": "code",
   "execution_count": 10,
   "metadata": {},
   "outputs": [
    {
     "name": "stdout",
     "output_type": "stream",
     "text": [
      "INFO:tensorflow:Calling model_fn.\n",
      "INFO:tensorflow:Done calling model_fn.\n",
      "INFO:tensorflow:Starting evaluation at 2024-05-11T20:10:52\n",
      "WARNING:tensorflow:From c:\\Python38\\lib\\site-packages\\tensorflow\\python\\training\\evaluation.py:260: FinalOpsHook.__init__ (from tensorflow.python.training.basic_session_run_hooks) is deprecated and will be removed in a future version.\n",
      "Instructions for updating:\n",
      "Use tf.keras instead.\n",
      "INFO:tensorflow:Graph was finalized.\n",
      "INFO:tensorflow:Restoring parameters from C:\\Users\\acer\\AppData\\Local\\Temp\\tmpvbio94nq\\model.ckpt-5000\n",
      "INFO:tensorflow:Running local_init_op.\n",
      "INFO:tensorflow:Done running local_init_op.\n",
      "INFO:tensorflow:Inference Time : 0.94986s\n",
      "INFO:tensorflow:Finished evaluation at 2024-05-11-20:10:53\n",
      "INFO:tensorflow:Saving dict for global step 5000: accuracy = 0.93333334, average_loss = 0.6581602, global_step = 5000, loss = 0.6581602\n",
      "INFO:tensorflow:Saving 'checkpoint_path' summary for global step 5000: C:\\Users\\acer\\AppData\\Local\\Temp\\tmpvbio94nq\\model.ckpt-5000\n"
     ]
    }
   ],
   "source": [
    "eval_result = classifier.evaluate(input_fn=lambda: input_function(test, test_y, training=False))"
   ]
  },
  {
   "cell_type": "code",
   "execution_count": 11,
   "metadata": {},
   "outputs": [
    {
     "name": "stdout",
     "output_type": "stream",
     "text": [
      "\n",
      " Test set accuracy:  0.933\n",
      "\n"
     ]
    }
   ],
   "source": [
    "print('\\n Test set accuracy: {accuracy: 0.3f}\\n'.format(**eval_result))"
   ]
  },
  {
   "cell_type": "code",
   "execution_count": 12,
   "metadata": {},
   "outputs": [],
   "source": [
    "def input_function(features, batch_size=256):\n",
    "    return tf.data.Dataset.from_tensor_slices((dict(features))).batch(batch_size)\n",
    "features = ['SepalLength', 'SepalWidth', 'PetalLength', 'PetalWidth']\n",
    "predict = {}"
   ]
  },
  {
   "cell_type": "code",
   "execution_count": 13,
   "metadata": {},
   "outputs": [
    {
     "name": "stdout",
     "output_type": "stream",
     "text": [
      "Please type numeric values as prompted\n"
     ]
    }
   ],
   "source": [
    "print('Please type numeric values as prompted')\n",
    "\n",
    "for feature in features:\n",
    "    valid = True\n",
    "    while valid:\n",
    "        val =input(feature+':')\n",
    "        if val.replace('.','').isnumeric(): valid = False\n",
    "    predict[feature]= [float(val)]\n"
   ]
  },
  {
   "cell_type": "markdown",
   "metadata": {},
   "source": [
    ".4,2.8,5.6,2.2,"
   ]
  },
  {
   "cell_type": "code",
   "execution_count": 14,
   "metadata": {},
   "outputs": [],
   "source": [
    "predictions = classifier.predict(lambda:tf.data.Dataset.from_tensor_slices(dict(predict)).batch(1))"
   ]
  },
  {
   "cell_type": "code",
   "execution_count": 15,
   "metadata": {},
   "outputs": [
    {
     "name": "stdout",
     "output_type": "stream",
     "text": [
      "INFO:tensorflow:Calling model_fn.\n"
     ]
    },
    {
     "name": "stdout",
     "output_type": "stream",
     "text": [
      "WARNING:tensorflow:From c:\\Python38\\lib\\site-packages\\tensorflow_estimator\\python\\estimator\\head\\base_head.py:786: ClassificationOutput.__init__ (from tensorflow.python.saved_model.model_utils.export_output) is deprecated and will be removed in a future version.\n",
      "Instructions for updating:\n",
      "Use tf.keras instead.\n",
      "WARNING:tensorflow:From c:\\Python38\\lib\\site-packages\\tensorflow_estimator\\python\\estimator\\head\\multi_class_head.py:455: PredictOutput.__init__ (from tensorflow.python.saved_model.model_utils.export_output) is deprecated and will be removed in a future version.\n",
      "Instructions for updating:\n",
      "Use tf.keras instead.\n",
      "INFO:tensorflow:Done calling model_fn.\n",
      "INFO:tensorflow:Graph was finalized.\n",
      "INFO:tensorflow:Restoring parameters from C:\\Users\\acer\\AppData\\Local\\Temp\\tmpvbio94nq\\model.ckpt-5000\n",
      "INFO:tensorflow:Running local_init_op.\n",
      "INFO:tensorflow:Done running local_init_op.\n",
      "Prediction is \"Virginica\"(38.4%)\n"
     ]
    }
   ],
   "source": [
    "for pred_dict in predictions:\n",
    "    class_id = pred_dict['class_ids'][0]\n",
    "    probability = pred_dict['probabilities'][class_id]\n",
    "    print('Prediction is \"{}\"({:.1f}%)'.format(SPECIES[class_id], 100*probability))"
   ]
  }
 ],
 "metadata": {
  "kernelspec": {
   "display_name": "base",
   "language": "python",
   "name": "python3"
  },
  "language_info": {
   "codemirror_mode": {
    "name": "ipython",
    "version": 3
   },
   "file_extension": ".py",
   "mimetype": "text/x-python",
   "name": "python",
   "nbconvert_exporter": "python",
   "pygments_lexer": "ipython3",
   "version": "3.8.10"
  }
 },
 "nbformat": 4,
 "nbformat_minor": 2
}
