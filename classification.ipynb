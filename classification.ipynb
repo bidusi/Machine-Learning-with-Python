{
 "cells": [
  {
   "cell_type": "code",
   "execution_count": 6,
   "metadata": {},
   "outputs": [],
   "source": [
    "from __future__ import absolute_import, division, print_function, unicode_literals\n",
    "import tensorflow as tf\n",
    "import pandas as pd"
   ]
  },
  {
   "cell_type": "code",
   "execution_count": 7,
   "metadata": {},
   "outputs": [],
   "source": [
    "CSV_COLUMN_NAMES = ['SepalLength', 'SepalWidth', 'PetalLength', 'PetalWidth', 'Species']\n",
    "SPECIES = ['Setosa', 'Versicolor', 'Virginica']\n",
    "# Lets define some constants to help us later on"
   ]
  },
  {
   "cell_type": "code",
   "execution_count": 8,
   "metadata": {},
   "outputs": [],
   "source": [
    "train = pd.read_csv('iris_training.csv', names=CSV_COLUMN_NAMES, header= 0)\n",
    "test = pd.read_csv('iris_test.csv', names=CSV_COLUMN_NAMES, header=0)"
   ]
  },
  {
   "cell_type": "code",
   "execution_count": 9,
   "metadata": {},
   "outputs": [
    {
     "data": {
      "text/html": [
       "<div>\n",
       "<style scoped>\n",
       "    .dataframe tbody tr th:only-of-type {\n",
       "        vertical-align: middle;\n",
       "    }\n",
       "\n",
       "    .dataframe tbody tr th {\n",
       "        vertical-align: top;\n",
       "    }\n",
       "\n",
       "    .dataframe thead th {\n",
       "        text-align: right;\n",
       "    }\n",
       "</style>\n",
       "<table border=\"1\" class=\"dataframe\">\n",
       "  <thead>\n",
       "    <tr style=\"text-align: right;\">\n",
       "      <th></th>\n",
       "      <th>SepalLength</th>\n",
       "      <th>SepalWidth</th>\n",
       "      <th>PetalLength</th>\n",
       "      <th>PetalWidth</th>\n",
       "      <th>Species</th>\n",
       "    </tr>\n",
       "  </thead>\n",
       "  <tbody>\n",
       "    <tr>\n",
       "      <th>0</th>\n",
       "      <td>6.4</td>\n",
       "      <td>2.8</td>\n",
       "      <td>5.6</td>\n",
       "      <td>2.2</td>\n",
       "      <td>2</td>\n",
       "    </tr>\n",
       "    <tr>\n",
       "      <th>1</th>\n",
       "      <td>5.0</td>\n",
       "      <td>2.3</td>\n",
       "      <td>3.3</td>\n",
       "      <td>1.0</td>\n",
       "      <td>1</td>\n",
       "    </tr>\n",
       "    <tr>\n",
       "      <th>2</th>\n",
       "      <td>4.9</td>\n",
       "      <td>2.5</td>\n",
       "      <td>4.5</td>\n",
       "      <td>1.7</td>\n",
       "      <td>2</td>\n",
       "    </tr>\n",
       "    <tr>\n",
       "      <th>3</th>\n",
       "      <td>4.9</td>\n",
       "      <td>3.1</td>\n",
       "      <td>1.5</td>\n",
       "      <td>0.1</td>\n",
       "      <td>0</td>\n",
       "    </tr>\n",
       "    <tr>\n",
       "      <th>4</th>\n",
       "      <td>5.7</td>\n",
       "      <td>3.8</td>\n",
       "      <td>1.7</td>\n",
       "      <td>0.3</td>\n",
       "      <td>0</td>\n",
       "    </tr>\n",
       "  </tbody>\n",
       "</table>\n",
       "</div>"
      ],
      "text/plain": [
       "   SepalLength  SepalWidth  PetalLength  PetalWidth  Species\n",
       "0          6.4         2.8          5.6         2.2        2\n",
       "1          5.0         2.3          3.3         1.0        1\n",
       "2          4.9         2.5          4.5         1.7        2\n",
       "3          4.9         3.1          1.5         0.1        0\n",
       "4          5.7         3.8          1.7         0.3        0"
      ]
     },
     "execution_count": 9,
     "metadata": {},
     "output_type": "execute_result"
    }
   ],
   "source": [
    "train.head()"
   ]
  },
  {
   "cell_type": "code",
   "execution_count": 10,
   "metadata": {},
   "outputs": [
    {
     "data": {
      "text/html": [
       "<div>\n",
       "<style scoped>\n",
       "    .dataframe tbody tr th:only-of-type {\n",
       "        vertical-align: middle;\n",
       "    }\n",
       "\n",
       "    .dataframe tbody tr th {\n",
       "        vertical-align: top;\n",
       "    }\n",
       "\n",
       "    .dataframe thead th {\n",
       "        text-align: right;\n",
       "    }\n",
       "</style>\n",
       "<table border=\"1\" class=\"dataframe\">\n",
       "  <thead>\n",
       "    <tr style=\"text-align: right;\">\n",
       "      <th></th>\n",
       "      <th>SepalLength</th>\n",
       "      <th>SepalWidth</th>\n",
       "      <th>PetalLength</th>\n",
       "      <th>PetalWidth</th>\n",
       "    </tr>\n",
       "  </thead>\n",
       "  <tbody>\n",
       "    <tr>\n",
       "      <th>0</th>\n",
       "      <td>6.4</td>\n",
       "      <td>2.8</td>\n",
       "      <td>5.6</td>\n",
       "      <td>2.2</td>\n",
       "    </tr>\n",
       "    <tr>\n",
       "      <th>1</th>\n",
       "      <td>5.0</td>\n",
       "      <td>2.3</td>\n",
       "      <td>3.3</td>\n",
       "      <td>1.0</td>\n",
       "    </tr>\n",
       "    <tr>\n",
       "      <th>2</th>\n",
       "      <td>4.9</td>\n",
       "      <td>2.5</td>\n",
       "      <td>4.5</td>\n",
       "      <td>1.7</td>\n",
       "    </tr>\n",
       "    <tr>\n",
       "      <th>3</th>\n",
       "      <td>4.9</td>\n",
       "      <td>3.1</td>\n",
       "      <td>1.5</td>\n",
       "      <td>0.1</td>\n",
       "    </tr>\n",
       "    <tr>\n",
       "      <th>4</th>\n",
       "      <td>5.7</td>\n",
       "      <td>3.8</td>\n",
       "      <td>1.7</td>\n",
       "      <td>0.3</td>\n",
       "    </tr>\n",
       "  </tbody>\n",
       "</table>\n",
       "</div>"
      ],
      "text/plain": [
       "   SepalLength  SepalWidth  PetalLength  PetalWidth\n",
       "0          6.4         2.8          5.6         2.2\n",
       "1          5.0         2.3          3.3         1.0\n",
       "2          4.9         2.5          4.5         1.7\n",
       "3          4.9         3.1          1.5         0.1\n",
       "4          5.7         3.8          1.7         0.3"
      ]
     },
     "execution_count": 10,
     "metadata": {},
     "output_type": "execute_result"
    }
   ],
   "source": [
    "train_y = train.pop('Species')\n",
    "test_y = test.pop('Species')\n",
    "train.head()"
   ]
  },
  {
   "cell_type": "code",
   "execution_count": 11,
   "metadata": {},
   "outputs": [],
   "source": [
    "def input_function (features, label, training = True, batch_size=256):\n",
    "    dataset = tf.data.Dataset.from_tensor_slices((dict(features),label))\n",
    "    if training:\n",
    "        dataset = dataset.shuffle(1000).repeat()\n",
    "    return dataset.batch(batch_size)"
   ]
  },
  {
   "cell_type": "code",
   "execution_count": 12,
   "metadata": {},
   "outputs": [
    {
     "name": "stdout",
     "output_type": "stream",
     "text": [
      "WARNING:tensorflow:From C:\\Users\\acer\\AppData\\Local\\Temp\\ipykernel_30744\\2926021717.py:3: numeric_column (from tensorflow.python.feature_column.feature_column_v2) is deprecated and will be removed in a future version.\n",
      "Instructions for updating:\n",
      "Use Keras preprocessing layers instead, either directly or via the `tf.keras.utils.FeatureSpace` utility. Each of `tf.feature_column.*` has a functional equivalent in `tf.keras.layers` for feature preprocessing when training a Keras model.\n",
      "[NumericColumn(key='SepalLength', shape=(1,), default_value=None, dtype=tf.float32, normalizer_fn=None), NumericColumn(key='SepalWidth', shape=(1,), default_value=None, dtype=tf.float32, normalizer_fn=None), NumericColumn(key='PetalLength', shape=(1,), default_value=None, dtype=tf.float32, normalizer_fn=None), NumericColumn(key='PetalWidth', shape=(1,), default_value=None, dtype=tf.float32, normalizer_fn=None)]\n"
     ]
    }
   ],
   "source": [
    "my_feature_columns = []\n",
    "for key in train.keys():\n",
    "    my_feature_columns.append(tf.feature_column.numeric_column(key=key))\n",
    "print(my_feature_columns)"
   ]
  },
  {
   "cell_type": "code",
   "execution_count": 13,
   "metadata": {},
   "outputs": [
    {
     "name": "stdout",
     "output_type": "stream",
     "text": [
      "WARNING:tensorflow:From C:\\Users\\acer\\AppData\\Local\\Temp\\ipykernel_30744\\3872239123.py:1: DNNClassifierV2.__init__ (from tensorflow_estimator.python.estimator.canned.dnn) is deprecated and will be removed in a future version.\n",
      "Instructions for updating:\n",
      "Use tf.keras instead.\n",
      "WARNING:tensorflow:From c:\\Python38\\lib\\site-packages\\tensorflow_estimator\\python\\estimator\\head\\head_utils.py:59: MultiClassHead.__init__ (from tensorflow_estimator.python.estimator.head.multi_class_head) is deprecated and will be removed in a future version.\n",
      "Instructions for updating:\n",
      "Use tf.keras instead.\n",
      "WARNING:tensorflow:From c:\\Python38\\lib\\site-packages\\tensorflow_estimator\\python\\estimator\\canned\\dnn.py:759: Estimator.__init__ (from tensorflow_estimator.python.estimator.estimator) is deprecated and will be removed in a future version.\n",
      "Instructions for updating:\n",
      "Use tf.keras instead.\n",
      "WARNING:tensorflow:From c:\\Python38\\lib\\site-packages\\tensorflow_estimator\\python\\estimator\\estimator.py:1844: RunConfig.__init__ (from tensorflow_estimator.python.estimator.run_config) is deprecated and will be removed in a future version.\n",
      "Instructions for updating:\n",
      "Use tf.keras instead.\n",
      "INFO:tensorflow:Using default config.\n",
      "WARNING:tensorflow:Using temporary folder as model directory: C:\\Users\\acer\\AppData\\Local\\Temp\\tmpnu0iuu4g\n",
      "INFO:tensorflow:Using config: {'_model_dir': 'C:\\\\Users\\\\acer\\\\AppData\\\\Local\\\\Temp\\\\tmpnu0iuu4g', '_tf_random_seed': None, '_save_summary_steps': 100, '_save_checkpoints_steps': None, '_save_checkpoints_secs': 600, '_session_config': allow_soft_placement: true\n",
      "graph_options {\n",
      "  rewrite_options {\n",
      "    meta_optimizer_iterations: ONE\n",
      "  }\n",
      "}\n",
      ", '_keep_checkpoint_max': 5, '_keep_checkpoint_every_n_hours': 10000, '_log_step_count_steps': 100, '_train_distribute': None, '_device_fn': None, '_protocol': None, '_eval_distribute': None, '_experimental_distribute': None, '_experimental_max_worker_delay_secs': None, '_session_creation_timeout_secs': 7200, '_checkpoint_save_graph_def': True, '_service': None, '_cluster_spec': ClusterSpec({}), '_task_type': 'worker', '_task_id': 0, '_global_id_in_cluster': 0, '_master': '', '_evaluation_master': '', '_is_chief': True, '_num_ps_replicas': 0, '_num_worker_replicas': 1}\n"
     ]
    }
   ],
   "source": [
    "classifier = tf.estimator.DNNClassifier(\n",
    "    feature_columns=my_feature_columns,\n",
    "    hidden_units=[30,10],\n",
    "    n_classes=3\n",
    ")"
   ]
  },
  {
   "cell_type": "code",
   "execution_count": null,
   "metadata": {},
   "outputs": [],
   "source": []
  },
  {
   "cell_type": "code",
   "execution_count": 14,
   "metadata": {},
   "outputs": [
    {
     "name": "stdout",
     "output_type": "stream",
     "text": [
      "WARNING:tensorflow:From c:\\Python38\\lib\\site-packages\\tensorflow_estimator\\python\\estimator\\estimator.py:385: StopAtStepHook.__init__ (from tensorflow.python.training.basic_session_run_hooks) is deprecated and will be removed in a future version.\n",
      "Instructions for updating:\n",
      "Use tf.keras instead.\n",
      "INFO:tensorflow:Calling model_fn.\n",
      "WARNING:tensorflow:From c:\\Python38\\lib\\site-packages\\keras\\src\\optimizers\\legacy\\adagrad.py:93: calling Constant.__init__ (from tensorflow.python.ops.init_ops) with dtype is deprecated and will be removed in a future version.\n",
      "Instructions for updating:\n",
      "Call initializer instance with the dtype argument instead of passing it to the constructor\n",
      "WARNING:tensorflow:From c:\\Python38\\lib\\site-packages\\tensorflow_estimator\\python\\estimator\\model_fn.py:250: EstimatorSpec.__new__ (from tensorflow_estimator.python.estimator.model_fn) is deprecated and will be removed in a future version.\n",
      "Instructions for updating:\n",
      "Use tf.keras instead.\n",
      "INFO:tensorflow:Done calling model_fn.\n",
      "WARNING:tensorflow:From c:\\Python38\\lib\\site-packages\\tensorflow_estimator\\python\\estimator\\estimator.py:1416: NanTensorHook.__init__ (from tensorflow.python.training.basic_session_run_hooks) is deprecated and will be removed in a future version.\n",
      "Instructions for updating:\n",
      "Use tf.keras instead.\n",
      "WARNING:tensorflow:From c:\\Python38\\lib\\site-packages\\tensorflow_estimator\\python\\estimator\\estimator.py:1419: LoggingTensorHook.__init__ (from tensorflow.python.training.basic_session_run_hooks) is deprecated and will be removed in a future version.\n",
      "Instructions for updating:\n",
      "Use tf.keras instead.\n",
      "WARNING:tensorflow:From c:\\Python38\\lib\\site-packages\\tensorflow\\python\\training\\basic_session_run_hooks.py:232: SecondOrStepTimer.__init__ (from tensorflow.python.training.basic_session_run_hooks) is deprecated and will be removed in a future version.\n",
      "Instructions for updating:\n",
      "Use tf.keras instead.\n",
      "WARNING:tensorflow:From c:\\Python38\\lib\\site-packages\\tensorflow_estimator\\python\\estimator\\estimator.py:1456: CheckpointSaverHook.__init__ (from tensorflow.python.training.basic_session_run_hooks) is deprecated and will be removed in a future version.\n",
      "Instructions for updating:\n",
      "Use tf.keras instead.\n",
      "INFO:tensorflow:Create CheckpointSaverHook.\n",
      "WARNING:tensorflow:From c:\\Python38\\lib\\site-packages\\tensorflow\\python\\training\\monitored_session.py:579: StepCounterHook.__init__ (from tensorflow.python.training.basic_session_run_hooks) is deprecated and will be removed in a future version.\n",
      "Instructions for updating:\n",
      "Use tf.keras instead.\n",
      "WARNING:tensorflow:From c:\\Python38\\lib\\site-packages\\tensorflow\\python\\training\\monitored_session.py:586: SummarySaverHook.__init__ (from tensorflow.python.training.basic_session_run_hooks) is deprecated and will be removed in a future version.\n",
      "Instructions for updating:\n",
      "Use tf.keras instead.\n",
      "INFO:tensorflow:Graph was finalized.\n",
      "INFO:tensorflow:Running local_init_op.\n",
      "INFO:tensorflow:Done running local_init_op.\n",
      "INFO:tensorflow:Calling checkpoint listeners before saving checkpoint 0...\n",
      "INFO:tensorflow:Saving checkpoints for 0 into C:\\Users\\acer\\AppData\\Local\\Temp\\tmpnu0iuu4g\\model.ckpt.\n",
      "INFO:tensorflow:Calling checkpoint listeners after saving checkpoint 0...\n",
      "WARNING:tensorflow:From c:\\Python38\\lib\\site-packages\\tensorflow\\python\\training\\monitored_session.py:1455: SessionRunArgs.__new__ (from tensorflow.python.training.session_run_hook) is deprecated and will be removed in a future version.\n",
      "Instructions for updating:\n",
      "Use tf.keras instead.\n",
      "WARNING:tensorflow:From c:\\Python38\\lib\\site-packages\\tensorflow\\python\\training\\monitored_session.py:1454: SessionRunContext.__init__ (from tensorflow.python.training.session_run_hook) is deprecated and will be removed in a future version.\n",
      "Instructions for updating:\n",
      "Use tf.keras instead.\n",
      "WARNING:tensorflow:From c:\\Python38\\lib\\site-packages\\tensorflow\\python\\training\\monitored_session.py:1474: SessionRunValues.__new__ (from tensorflow.python.training.session_run_hook) is deprecated and will be removed in a future version.\n",
      "Instructions for updating:\n",
      "Use tf.keras instead.\n",
      "INFO:tensorflow:loss = 1.9414237, step = 0\n",
      "INFO:tensorflow:global_step/sec: 888.434\n",
      "INFO:tensorflow:loss = 1.3170588, step = 100 (0.114 sec)\n",
      "INFO:tensorflow:global_step/sec: 1444.31\n",
      "INFO:tensorflow:loss = 1.1896911, step = 200 (0.069 sec)\n",
      "INFO:tensorflow:global_step/sec: 1242.01\n",
      "INFO:tensorflow:loss = 1.078499, step = 300 (0.082 sec)\n",
      "INFO:tensorflow:global_step/sec: 1333.22\n",
      "INFO:tensorflow:loss = 1.0161322, step = 400 (0.074 sec)\n",
      "INFO:tensorflow:global_step/sec: 1379.1\n",
      "INFO:tensorflow:loss = 0.95110995, step = 500 (0.073 sec)\n",
      "INFO:tensorflow:global_step/sec: 1367.76\n",
      "INFO:tensorflow:loss = 0.90173495, step = 600 (0.074 sec)\n",
      "INFO:tensorflow:global_step/sec: 1259.97\n",
      "INFO:tensorflow:loss = 0.852255, step = 700 (0.078 sec)\n",
      "INFO:tensorflow:global_step/sec: 1351.25\n",
      "INFO:tensorflow:loss = 0.7910068, step = 800 (0.074 sec)\n",
      "INFO:tensorflow:global_step/sec: 1360.29\n",
      "INFO:tensorflow:loss = 0.75620353, step = 900 (0.074 sec)\n",
      "INFO:tensorflow:global_step/sec: 1348.69\n",
      "INFO:tensorflow:loss = 0.732118, step = 1000 (0.074 sec)\n",
      "INFO:tensorflow:global_step/sec: 934.098\n",
      "INFO:tensorflow:loss = 0.71487445, step = 1100 (0.108 sec)\n",
      "INFO:tensorflow:global_step/sec: 1105.74\n",
      "INFO:tensorflow:loss = 0.69698703, step = 1200 (0.090 sec)\n",
      "INFO:tensorflow:global_step/sec: 975.386\n",
      "INFO:tensorflow:loss = 0.68448484, step = 1300 (0.102 sec)\n",
      "INFO:tensorflow:global_step/sec: 1280.23\n",
      "INFO:tensorflow:loss = 0.6617422, step = 1400 (0.078 sec)\n",
      "INFO:tensorflow:global_step/sec: 1333.11\n",
      "INFO:tensorflow:loss = 0.6512375, step = 1500 (0.076 sec)\n",
      "INFO:tensorflow:global_step/sec: 1315.47\n",
      "INFO:tensorflow:loss = 0.6288258, step = 1600 (0.075 sec)\n",
      "INFO:tensorflow:global_step/sec: 1384.13\n",
      "INFO:tensorflow:loss = 0.6311699, step = 1700 (0.072 sec)\n",
      "INFO:tensorflow:global_step/sec: 1404.88\n",
      "INFO:tensorflow:loss = 0.6118035, step = 1800 (0.072 sec)\n",
      "INFO:tensorflow:global_step/sec: 822.892\n",
      "INFO:tensorflow:loss = 0.6092447, step = 1900 (0.121 sec)\n",
      "INFO:tensorflow:global_step/sec: 1378.99\n",
      "INFO:tensorflow:loss = 0.59953946, step = 2000 (0.073 sec)\n",
      "INFO:tensorflow:global_step/sec: 1388.87\n",
      "INFO:tensorflow:loss = 0.58733296, step = 2100 (0.072 sec)\n",
      "INFO:tensorflow:global_step/sec: 1329.95\n",
      "INFO:tensorflow:loss = 0.5768037, step = 2200 (0.075 sec)\n",
      "INFO:tensorflow:global_step/sec: 1382.46\n",
      "INFO:tensorflow:loss = 0.57679814, step = 2300 (0.072 sec)\n",
      "INFO:tensorflow:global_step/sec: 1360.19\n",
      "INFO:tensorflow:loss = 0.5607095, step = 2400 (0.075 sec)\n",
      "INFO:tensorflow:global_step/sec: 1315.8\n",
      "INFO:tensorflow:loss = 0.5531943, step = 2500 (0.075 sec)\n",
      "INFO:tensorflow:global_step/sec: 1290.03\n",
      "INFO:tensorflow:loss = 0.539044, step = 2600 (0.078 sec)\n",
      "INFO:tensorflow:global_step/sec: 1341.83\n",
      "INFO:tensorflow:loss = 0.53327584, step = 2700 (0.075 sec)\n",
      "INFO:tensorflow:global_step/sec: 1386.52\n",
      "INFO:tensorflow:loss = 0.5230876, step = 2800 (0.072 sec)\n",
      "INFO:tensorflow:global_step/sec: 1265.8\n",
      "INFO:tensorflow:loss = 0.526424, step = 2900 (0.081 sec)\n",
      "INFO:tensorflow:global_step/sec: 1349.06\n",
      "INFO:tensorflow:loss = 0.5206029, step = 3000 (0.072 sec)\n",
      "INFO:tensorflow:global_step/sec: 1295.68\n",
      "INFO:tensorflow:loss = 0.51560026, step = 3100 (0.078 sec)\n",
      "INFO:tensorflow:global_step/sec: 1332.31\n",
      "INFO:tensorflow:loss = 0.5070362, step = 3200 (0.075 sec)\n",
      "INFO:tensorflow:global_step/sec: 1281.96\n",
      "INFO:tensorflow:loss = 0.5001937, step = 3300 (0.077 sec)\n",
      "INFO:tensorflow:global_step/sec: 1341.84\n",
      "INFO:tensorflow:loss = 0.5066661, step = 3400 (0.075 sec)\n",
      "INFO:tensorflow:global_step/sec: 1360.18\n",
      "INFO:tensorflow:loss = 0.48202324, step = 3500 (0.074 sec)\n",
      "INFO:tensorflow:global_step/sec: 1368.01\n",
      "INFO:tensorflow:loss = 0.48349512, step = 3600 (0.073 sec)\n",
      "INFO:tensorflow:global_step/sec: 1388.88\n",
      "INFO:tensorflow:loss = 0.46299538, step = 3700 (0.072 sec)\n",
      "INFO:tensorflow:global_step/sec: 1341.57\n",
      "INFO:tensorflow:loss = 0.47643694, step = 3800 (0.075 sec)\n",
      "INFO:tensorflow:global_step/sec: 1324.49\n",
      "INFO:tensorflow:loss = 0.4802339, step = 3900 (0.076 sec)\n",
      "INFO:tensorflow:global_step/sec: 1263.74\n",
      "INFO:tensorflow:loss = 0.46804732, step = 4000 (0.079 sec)\n",
      "INFO:tensorflow:global_step/sec: 1388.83\n",
      "INFO:tensorflow:loss = 0.46977037, step = 4100 (0.072 sec)\n",
      "INFO:tensorflow:global_step/sec: 1327.17\n",
      "INFO:tensorflow:loss = 0.45698833, step = 4200 (0.075 sec)\n",
      "INFO:tensorflow:global_step/sec: 1264.79\n",
      "INFO:tensorflow:loss = 0.4573746, step = 4300 (0.079 sec)\n",
      "INFO:tensorflow:global_step/sec: 1175.16\n",
      "INFO:tensorflow:loss = 0.45528597, step = 4400 (0.085 sec)\n",
      "INFO:tensorflow:global_step/sec: 1061.18\n",
      "INFO:tensorflow:loss = 0.450284, step = 4500 (0.096 sec)\n",
      "INFO:tensorflow:global_step/sec: 1133.45\n",
      "INFO:tensorflow:loss = 0.4388783, step = 4600 (0.087 sec)\n",
      "INFO:tensorflow:global_step/sec: 1388.91\n",
      "INFO:tensorflow:loss = 0.44082528, step = 4700 (0.071 sec)\n",
      "INFO:tensorflow:global_step/sec: 1387.62\n",
      "INFO:tensorflow:loss = 0.43801746, step = 4800 (0.072 sec)\n",
      "INFO:tensorflow:global_step/sec: 1232.54\n",
      "INFO:tensorflow:loss = 0.4570077, step = 4900 (0.081 sec)\n",
      "INFO:tensorflow:Calling checkpoint listeners before saving checkpoint 5000...\n",
      "INFO:tensorflow:Saving checkpoints for 5000 into C:\\Users\\acer\\AppData\\Local\\Temp\\tmpnu0iuu4g\\model.ckpt.\n",
      "INFO:tensorflow:Calling checkpoint listeners after saving checkpoint 5000...\n",
      "INFO:tensorflow:Loss for final step: 0.42456406.\n"
     ]
    },
    {
     "data": {
      "text/plain": [
       "<tensorflow_estimator.python.estimator.canned.dnn.DNNClassifierV2 at 0x21fc6e06910>"
      ]
     },
     "execution_count": 14,
     "metadata": {},
     "output_type": "execute_result"
    }
   ],
   "source": [
    "classifier.train(input_fn=lambda: input_function(train, train_y, training= True), steps=5000)"
   ]
  },
  {
   "cell_type": "code",
   "execution_count": 15,
   "metadata": {},
   "outputs": [
    {
     "name": "stdout",
     "output_type": "stream",
     "text": [
      "INFO:tensorflow:Calling model_fn.\n"
     ]
    },
    {
     "name": "stdout",
     "output_type": "stream",
     "text": [
      "INFO:tensorflow:Done calling model_fn.\n",
      "INFO:tensorflow:Starting evaluation at 2024-03-28T19:25:54\n",
      "WARNING:tensorflow:From c:\\Python38\\lib\\site-packages\\tensorflow\\python\\training\\evaluation.py:260: FinalOpsHook.__init__ (from tensorflow.python.training.basic_session_run_hooks) is deprecated and will be removed in a future version.\n",
      "Instructions for updating:\n",
      "Use tf.keras instead.\n",
      "INFO:tensorflow:Graph was finalized.\n",
      "INFO:tensorflow:Restoring parameters from C:\\Users\\acer\\AppData\\Local\\Temp\\tmpnu0iuu4g\\model.ckpt-5000\n",
      "INFO:tensorflow:Running local_init_op.\n",
      "INFO:tensorflow:Done running local_init_op.\n",
      "INFO:tensorflow:Inference Time : 0.83655s\n",
      "INFO:tensorflow:Finished evaluation at 2024-03-28-19:25:55\n",
      "INFO:tensorflow:Saving dict for global step 5000: accuracy = 0.76666665, average_loss = 0.5146104, global_step = 5000, loss = 0.5146104\n",
      "INFO:tensorflow:Saving 'checkpoint_path' summary for global step 5000: C:\\Users\\acer\\AppData\\Local\\Temp\\tmpnu0iuu4g\\model.ckpt-5000\n"
     ]
    }
   ],
   "source": [
    "eval_result = classifier.evaluate(input_fn=lambda: input_function(test, test_y, training=False))"
   ]
  },
  {
   "cell_type": "code",
   "execution_count": 16,
   "metadata": {},
   "outputs": [
    {
     "name": "stdout",
     "output_type": "stream",
     "text": [
      "\n",
      " Test set accuracy:  0.767\n",
      "\n"
     ]
    }
   ],
   "source": [
    "print('\\n Test set accuracy: {accuracy: 0.3f}\\n'.format(**eval_result))"
   ]
  },
  {
   "cell_type": "code",
   "execution_count": 17,
   "metadata": {},
   "outputs": [],
   "source": [
    "def input_function(features, batch_size=256):\n",
    "    return tf.data.Dataset.from_tensor_slices((dict(features))).batch(batch_size)\n",
    "features = ['SepalLength', 'SepalWidth', 'PetalLength', 'PetalWidth']\n",
    "predict = {}"
   ]
  },
  {
   "cell_type": "code",
   "execution_count": 37,
   "metadata": {},
   "outputs": [
    {
     "name": "stdout",
     "output_type": "stream",
     "text": [
      "Please type numeric values as prompted\n"
     ]
    }
   ],
   "source": [
    "print('Please type numeric values as prompted')\n",
    "\n",
    "for feature in features:\n",
    "    valid = True\n",
    "    while valid:\n",
    "        val =input(feature+':')\n",
    "        if val.replace('.','').isnumeric(): valid = False\n",
    "    predict[feature]= [float(val)]\n"
   ]
  },
  {
   "cell_type": "markdown",
   "metadata": {},
   "source": [
    ".4,2.8,5.6,2.2,"
   ]
  },
  {
   "cell_type": "code",
   "execution_count": 38,
   "metadata": {},
   "outputs": [],
   "source": [
    "predictions = classifier.predict(lambda:tf.data.Dataset.from_tensor_slices(dict(predict)).batch(1))"
   ]
  },
  {
   "cell_type": "code",
   "execution_count": 39,
   "metadata": {},
   "outputs": [
    {
     "name": "stdout",
     "output_type": "stream",
     "text": [
      "INFO:tensorflow:Calling model_fn.\n"
     ]
    },
    {
     "name": "stdout",
     "output_type": "stream",
     "text": [
      "INFO:tensorflow:Done calling model_fn.\n",
      "INFO:tensorflow:Graph was finalized.\n",
      "INFO:tensorflow:Restoring parameters from C:\\Users\\acer\\AppData\\Local\\Temp\\tmpnu0iuu4g\\model.ckpt-5000\n",
      "INFO:tensorflow:Running local_init_op.\n",
      "INFO:tensorflow:Done running local_init_op.\n",
      "Prediction is \"Virginica\"(82.5%)\n"
     ]
    }
   ],
   "source": [
    "for pred_dict in predictions:\n",
    "    class_id = pred_dict['class_ids'][0]\n",
    "    probability = pred_dict['probabilities'][class_id]\n",
    "    print('Prediction is \"{}\"({:.1f}%)'.format(SPECIES[class_id], 100*probability))"
   ]
  }
 ],
 "metadata": {
  "kernelspec": {
   "display_name": "base",
   "language": "python",
   "name": "python3"
  },
  "language_info": {
   "codemirror_mode": {
    "name": "ipython",
    "version": 3
   },
   "file_extension": ".py",
   "mimetype": "text/x-python",
   "name": "python",
   "nbconvert_exporter": "python",
   "pygments_lexer": "ipython3",
   "version": "3.8.10"
  }
 },
 "nbformat": 4,
 "nbformat_minor": 2
}
